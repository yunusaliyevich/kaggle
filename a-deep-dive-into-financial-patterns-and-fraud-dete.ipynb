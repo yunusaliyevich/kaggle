{
 "cells": [
  {
   "cell_type": "code",
   "execution_count": 1,
   "id": "780a9975",
   "metadata": {
    "_cell_guid": "b1076dfc-b9ad-4769-8c92-a6c4dae69d19",
    "_uuid": "8f2839f25d086af736a60e9eeb907d3b93b6e0e5",
    "execution": {
     "iopub.execute_input": "2024-12-11T01:51:34.163612Z",
     "iopub.status.busy": "2024-12-11T01:51:34.162444Z",
     "iopub.status.idle": "2024-12-11T01:51:37.077136Z",
     "shell.execute_reply": "2024-12-11T01:51:37.075672Z"
    },
    "papermill": {
     "duration": 2.927443,
     "end_time": "2024-12-11T01:51:37.080027",
     "exception": false,
     "start_time": "2024-12-11T01:51:34.152584",
     "status": "completed"
    },
    "tags": []
   },
   "outputs": [
    {
     "name": "stdout",
     "output_type": "stream",
     "text": [
      "/kaggle/input/bank-transaction-dataset-for-fraud-detection/bank_transactions_data_2.csv\n"
     ]
    }
   ],
   "source": [
    "# This Python 3 environment comes with many helpful analytics libraries installed\n",
    "# It is defined by the kaggle/python Docker image: https://github.com/kaggle/docker-python\n",
    "# For example, here's several helpful packages to load\n",
    "\n",
    "import numpy as np # linear algebra\n",
    "import pandas as pd # data processing, CSV file I/O (e.g. pd.read_csv)\n",
    "import matplotlib.pyplot as plt\n",
    "import seaborn as sns\n",
    "\n",
    "# Input data files are available in the read-only \"../input/\" directory\n",
    "# For example, running this (by clicking run or pressing Shift+Enter) will list all files under the input directory\n",
    "\n",
    "import os\n",
    "for dirname, _, filenames in os.walk('/kaggle/input'):\n",
    "    for filename in filenames:\n",
    "        print(os.path.join(dirname, filename))\n",
    "\n",
    "# You can write up to 20GB to the current directory (/kaggle/working/) that gets preserved as output when you create a version using \"Save & Run All\" \n",
    "# You can also write temporary files to /kaggle/temp/, but they won't be saved outside of the current session"
   ]
  },
  {
   "cell_type": "markdown",
   "id": "3b60fb5f",
   "metadata": {
    "papermill": {
     "duration": 0.008396,
     "end_time": "2024-12-11T01:51:37.096698",
     "exception": false,
     "start_time": "2024-12-11T01:51:37.088302",
     "status": "completed"
    },
    "tags": []
   },
   "source": [
    "# Understanding & Analyzing the Dataset"
   ]
  },
  {
   "cell_type": "code",
   "execution_count": 2,
   "id": "2d8dc108",
   "metadata": {
    "execution": {
     "iopub.execute_input": "2024-12-11T01:51:37.113910Z",
     "iopub.status.busy": "2024-12-11T01:51:37.113360Z",
     "iopub.status.idle": "2024-12-11T01:51:37.176832Z",
     "shell.execute_reply": "2024-12-11T01:51:37.175524Z"
    },
    "papermill": {
     "duration": 0.075198,
     "end_time": "2024-12-11T01:51:37.179287",
     "exception": false,
     "start_time": "2024-12-11T01:51:37.104089",
     "status": "completed"
    },
    "tags": []
   },
   "outputs": [
    {
     "data": {
      "text/html": [
       "<div>\n",
       "<style scoped>\n",
       "    .dataframe tbody tr th:only-of-type {\n",
       "        vertical-align: middle;\n",
       "    }\n",
       "\n",
       "    .dataframe tbody tr th {\n",
       "        vertical-align: top;\n",
       "    }\n",
       "\n",
       "    .dataframe thead th {\n",
       "        text-align: right;\n",
       "    }\n",
       "</style>\n",
       "<table border=\"1\" class=\"dataframe\">\n",
       "  <thead>\n",
       "    <tr style=\"text-align: right;\">\n",
       "      <th></th>\n",
       "      <th>TransactionID</th>\n",
       "      <th>AccountID</th>\n",
       "      <th>TransactionAmount</th>\n",
       "      <th>TransactionDate</th>\n",
       "      <th>TransactionType</th>\n",
       "      <th>Location</th>\n",
       "      <th>DeviceID</th>\n",
       "      <th>IP Address</th>\n",
       "      <th>MerchantID</th>\n",
       "      <th>Channel</th>\n",
       "      <th>CustomerAge</th>\n",
       "      <th>CustomerOccupation</th>\n",
       "      <th>TransactionDuration</th>\n",
       "      <th>LoginAttempts</th>\n",
       "      <th>AccountBalance</th>\n",
       "      <th>PreviousTransactionDate</th>\n",
       "    </tr>\n",
       "  </thead>\n",
       "  <tbody>\n",
       "    <tr>\n",
       "      <th>0</th>\n",
       "      <td>TX000001</td>\n",
       "      <td>AC00128</td>\n",
       "      <td>14.09</td>\n",
       "      <td>2023-04-11 16:29:14</td>\n",
       "      <td>Debit</td>\n",
       "      <td>San Diego</td>\n",
       "      <td>D000380</td>\n",
       "      <td>162.198.218.92</td>\n",
       "      <td>M015</td>\n",
       "      <td>ATM</td>\n",
       "      <td>70</td>\n",
       "      <td>Doctor</td>\n",
       "      <td>81</td>\n",
       "      <td>1</td>\n",
       "      <td>5112.21</td>\n",
       "      <td>2024-11-04 08:08:08</td>\n",
       "    </tr>\n",
       "    <tr>\n",
       "      <th>1</th>\n",
       "      <td>TX000002</td>\n",
       "      <td>AC00455</td>\n",
       "      <td>376.24</td>\n",
       "      <td>2023-06-27 16:44:19</td>\n",
       "      <td>Debit</td>\n",
       "      <td>Houston</td>\n",
       "      <td>D000051</td>\n",
       "      <td>13.149.61.4</td>\n",
       "      <td>M052</td>\n",
       "      <td>ATM</td>\n",
       "      <td>68</td>\n",
       "      <td>Doctor</td>\n",
       "      <td>141</td>\n",
       "      <td>1</td>\n",
       "      <td>13758.91</td>\n",
       "      <td>2024-11-04 08:09:35</td>\n",
       "    </tr>\n",
       "    <tr>\n",
       "      <th>2</th>\n",
       "      <td>TX000003</td>\n",
       "      <td>AC00019</td>\n",
       "      <td>126.29</td>\n",
       "      <td>2023-07-10 18:16:08</td>\n",
       "      <td>Debit</td>\n",
       "      <td>Mesa</td>\n",
       "      <td>D000235</td>\n",
       "      <td>215.97.143.157</td>\n",
       "      <td>M009</td>\n",
       "      <td>Online</td>\n",
       "      <td>19</td>\n",
       "      <td>Student</td>\n",
       "      <td>56</td>\n",
       "      <td>1</td>\n",
       "      <td>1122.35</td>\n",
       "      <td>2024-11-04 08:07:04</td>\n",
       "    </tr>\n",
       "    <tr>\n",
       "      <th>3</th>\n",
       "      <td>TX000004</td>\n",
       "      <td>AC00070</td>\n",
       "      <td>184.50</td>\n",
       "      <td>2023-05-05 16:32:11</td>\n",
       "      <td>Debit</td>\n",
       "      <td>Raleigh</td>\n",
       "      <td>D000187</td>\n",
       "      <td>200.13.225.150</td>\n",
       "      <td>M002</td>\n",
       "      <td>Online</td>\n",
       "      <td>26</td>\n",
       "      <td>Student</td>\n",
       "      <td>25</td>\n",
       "      <td>1</td>\n",
       "      <td>8569.06</td>\n",
       "      <td>2024-11-04 08:09:06</td>\n",
       "    </tr>\n",
       "    <tr>\n",
       "      <th>4</th>\n",
       "      <td>TX000005</td>\n",
       "      <td>AC00411</td>\n",
       "      <td>13.45</td>\n",
       "      <td>2023-10-16 17:51:24</td>\n",
       "      <td>Credit</td>\n",
       "      <td>Atlanta</td>\n",
       "      <td>D000308</td>\n",
       "      <td>65.164.3.100</td>\n",
       "      <td>M091</td>\n",
       "      <td>Online</td>\n",
       "      <td>26</td>\n",
       "      <td>Student</td>\n",
       "      <td>198</td>\n",
       "      <td>1</td>\n",
       "      <td>7429.40</td>\n",
       "      <td>2024-11-04 08:06:39</td>\n",
       "    </tr>\n",
       "  </tbody>\n",
       "</table>\n",
       "</div>"
      ],
      "text/plain": [
       "  TransactionID AccountID  TransactionAmount      TransactionDate  \\\n",
       "0      TX000001   AC00128              14.09  2023-04-11 16:29:14   \n",
       "1      TX000002   AC00455             376.24  2023-06-27 16:44:19   \n",
       "2      TX000003   AC00019             126.29  2023-07-10 18:16:08   \n",
       "3      TX000004   AC00070             184.50  2023-05-05 16:32:11   \n",
       "4      TX000005   AC00411              13.45  2023-10-16 17:51:24   \n",
       "\n",
       "  TransactionType   Location DeviceID      IP Address MerchantID Channel  \\\n",
       "0           Debit  San Diego  D000380  162.198.218.92       M015     ATM   \n",
       "1           Debit    Houston  D000051     13.149.61.4       M052     ATM   \n",
       "2           Debit       Mesa  D000235  215.97.143.157       M009  Online   \n",
       "3           Debit    Raleigh  D000187  200.13.225.150       M002  Online   \n",
       "4          Credit    Atlanta  D000308    65.164.3.100       M091  Online   \n",
       "\n",
       "   CustomerAge CustomerOccupation  TransactionDuration  LoginAttempts  \\\n",
       "0           70             Doctor                   81              1   \n",
       "1           68             Doctor                  141              1   \n",
       "2           19            Student                   56              1   \n",
       "3           26            Student                   25              1   \n",
       "4           26            Student                  198              1   \n",
       "\n",
       "   AccountBalance PreviousTransactionDate  \n",
       "0         5112.21     2024-11-04 08:08:08  \n",
       "1        13758.91     2024-11-04 08:09:35  \n",
       "2         1122.35     2024-11-04 08:07:04  \n",
       "3         8569.06     2024-11-04 08:09:06  \n",
       "4         7429.40     2024-11-04 08:06:39  "
      ]
     },
     "execution_count": 2,
     "metadata": {},
     "output_type": "execute_result"
    }
   ],
   "source": [
    "df = pd.read_csv('/kaggle/input/bank-transaction-dataset-for-fraud-detection/bank_transactions_data_2.csv')\n",
    "df.head()"
   ]
  },
  {
   "cell_type": "code",
   "execution_count": 3,
   "id": "8eb7aa5d",
   "metadata": {
    "execution": {
     "iopub.execute_input": "2024-12-11T01:51:37.196860Z",
     "iopub.status.busy": "2024-12-11T01:51:37.196454Z",
     "iopub.status.idle": "2024-12-11T01:51:37.227019Z",
     "shell.execute_reply": "2024-12-11T01:51:37.225814Z"
    },
    "papermill": {
     "duration": 0.042314,
     "end_time": "2024-12-11T01:51:37.229398",
     "exception": false,
     "start_time": "2024-12-11T01:51:37.187084",
     "status": "completed"
    },
    "tags": []
   },
   "outputs": [
    {
     "name": "stdout",
     "output_type": "stream",
     "text": [
      "<class 'pandas.core.frame.DataFrame'>\n",
      "RangeIndex: 2512 entries, 0 to 2511\n",
      "Data columns (total 16 columns):\n",
      " #   Column                   Non-Null Count  Dtype  \n",
      "---  ------                   --------------  -----  \n",
      " 0   TransactionID            2512 non-null   object \n",
      " 1   AccountID                2512 non-null   object \n",
      " 2   TransactionAmount        2512 non-null   float64\n",
      " 3   TransactionDate          2512 non-null   object \n",
      " 4   TransactionType          2512 non-null   object \n",
      " 5   Location                 2512 non-null   object \n",
      " 6   DeviceID                 2512 non-null   object \n",
      " 7   IP Address               2512 non-null   object \n",
      " 8   MerchantID               2512 non-null   object \n",
      " 9   Channel                  2512 non-null   object \n",
      " 10  CustomerAge              2512 non-null   int64  \n",
      " 11  CustomerOccupation       2512 non-null   object \n",
      " 12  TransactionDuration      2512 non-null   int64  \n",
      " 13  LoginAttempts            2512 non-null   int64  \n",
      " 14  AccountBalance           2512 non-null   float64\n",
      " 15  PreviousTransactionDate  2512 non-null   object \n",
      "dtypes: float64(2), int64(3), object(11)\n",
      "memory usage: 314.1+ KB\n"
     ]
    }
   ],
   "source": [
    "df.info()"
   ]
  },
  {
   "cell_type": "code",
   "execution_count": 4,
   "id": "c7b6b96f",
   "metadata": {
    "execution": {
     "iopub.execute_input": "2024-12-11T01:51:37.246773Z",
     "iopub.status.busy": "2024-12-11T01:51:37.246365Z",
     "iopub.status.idle": "2024-12-11T01:51:37.261458Z",
     "shell.execute_reply": "2024-12-11T01:51:37.260334Z"
    },
    "papermill": {
     "duration": 0.027083,
     "end_time": "2024-12-11T01:51:37.264406",
     "exception": false,
     "start_time": "2024-12-11T01:51:37.237323",
     "status": "completed"
    },
    "tags": []
   },
   "outputs": [
    {
     "data": {
      "text/plain": [
       "TransactionID              2512\n",
       "AccountID                   495\n",
       "TransactionAmount          2455\n",
       "TransactionDate            2512\n",
       "TransactionType               2\n",
       "Location                     43\n",
       "DeviceID                    681\n",
       "IP Address                  592\n",
       "MerchantID                  100\n",
       "Channel                       3\n",
       "CustomerAge                  63\n",
       "CustomerOccupation            4\n",
       "TransactionDuration         288\n",
       "LoginAttempts                 5\n",
       "AccountBalance             2510\n",
       "PreviousTransactionDate     360\n",
       "dtype: int64"
      ]
     },
     "execution_count": 4,
     "metadata": {},
     "output_type": "execute_result"
    }
   ],
   "source": [
    "df.nunique()"
   ]
  },
  {
   "cell_type": "code",
   "execution_count": 5,
   "id": "15211a55",
   "metadata": {
    "execution": {
     "iopub.execute_input": "2024-12-11T01:51:37.290314Z",
     "iopub.status.busy": "2024-12-11T01:51:37.289925Z",
     "iopub.status.idle": "2024-12-11T01:51:37.303138Z",
     "shell.execute_reply": "2024-12-11T01:51:37.301951Z"
    },
    "papermill": {
     "duration": 0.026627,
     "end_time": "2024-12-11T01:51:37.305872",
     "exception": false,
     "start_time": "2024-12-11T01:51:37.279245",
     "status": "completed"
    },
    "tags": []
   },
   "outputs": [
    {
     "name": "stdout",
     "output_type": "stream",
     "text": [
      "datetime64[ns]\n"
     ]
    }
   ],
   "source": [
    "df['TransactionDate'] = pd.to_datetime(df['TransactionDate'])\n",
    "\n",
    "print(df['TransactionDate'].dtype)"
   ]
  },
  {
   "cell_type": "code",
   "execution_count": 6,
   "id": "1c0d5948",
   "metadata": {
    "execution": {
     "iopub.execute_input": "2024-12-11T01:51:37.330741Z",
     "iopub.status.busy": "2024-12-11T01:51:37.329498Z",
     "iopub.status.idle": "2024-12-11T01:51:37.339036Z",
     "shell.execute_reply": "2024-12-11T01:51:37.337715Z"
    },
    "papermill": {
     "duration": 0.021721,
     "end_time": "2024-12-11T01:51:37.341361",
     "exception": false,
     "start_time": "2024-12-11T01:51:37.319640",
     "status": "completed"
    },
    "tags": []
   },
   "outputs": [
    {
     "name": "stdout",
     "output_type": "stream",
     "text": [
      "datetime64[ns]\n"
     ]
    }
   ],
   "source": [
    "df['PreviousTransactionDate'] = pd.to_datetime(df['PreviousTransactionDate'])\n",
    "\n",
    "print(df['PreviousTransactionDate'].dtype)"
   ]
  },
  {
   "cell_type": "code",
   "execution_count": 7,
   "id": "cee789c1",
   "metadata": {
    "execution": {
     "iopub.execute_input": "2024-12-11T01:51:37.359401Z",
     "iopub.status.busy": "2024-12-11T01:51:37.358475Z",
     "iopub.status.idle": "2024-12-11T01:51:37.372949Z",
     "shell.execute_reply": "2024-12-11T01:51:37.371614Z"
    },
    "papermill": {
     "duration": 0.025985,
     "end_time": "2024-12-11T01:51:37.375342",
     "exception": false,
     "start_time": "2024-12-11T01:51:37.349357",
     "status": "completed"
    },
    "tags": []
   },
   "outputs": [
    {
     "name": "stdout",
     "output_type": "stream",
     "text": [
      "<class 'pandas.core.frame.DataFrame'>\n",
      "RangeIndex: 2512 entries, 0 to 2511\n",
      "Data columns (total 16 columns):\n",
      " #   Column                   Non-Null Count  Dtype         \n",
      "---  ------                   --------------  -----         \n",
      " 0   TransactionID            2512 non-null   object        \n",
      " 1   AccountID                2512 non-null   object        \n",
      " 2   TransactionAmount        2512 non-null   float64       \n",
      " 3   TransactionDate          2512 non-null   datetime64[ns]\n",
      " 4   TransactionType          2512 non-null   object        \n",
      " 5   Location                 2512 non-null   object        \n",
      " 6   DeviceID                 2512 non-null   object        \n",
      " 7   IP Address               2512 non-null   object        \n",
      " 8   MerchantID               2512 non-null   object        \n",
      " 9   Channel                  2512 non-null   object        \n",
      " 10  CustomerAge              2512 non-null   int64         \n",
      " 11  CustomerOccupation       2512 non-null   object        \n",
      " 12  TransactionDuration      2512 non-null   int64         \n",
      " 13  LoginAttempts            2512 non-null   int64         \n",
      " 14  AccountBalance           2512 non-null   float64       \n",
      " 15  PreviousTransactionDate  2512 non-null   datetime64[ns]\n",
      "dtypes: datetime64[ns](2), float64(2), int64(3), object(9)\n",
      "memory usage: 314.1+ KB\n"
     ]
    }
   ],
   "source": [
    "df.info()"
   ]
  },
  {
   "cell_type": "code",
   "execution_count": 8,
   "id": "3e50db78",
   "metadata": {
    "execution": {
     "iopub.execute_input": "2024-12-11T01:51:37.393555Z",
     "iopub.status.busy": "2024-12-11T01:51:37.393060Z",
     "iopub.status.idle": "2024-12-11T01:51:37.400950Z",
     "shell.execute_reply": "2024-12-11T01:51:37.399715Z"
    },
    "papermill": {
     "duration": 0.020731,
     "end_time": "2024-12-11T01:51:37.404113",
     "exception": false,
     "start_time": "2024-12-11T01:51:37.383382",
     "status": "completed"
    },
    "tags": []
   },
   "outputs": [
    {
     "name": "stdout",
     "output_type": "stream",
     "text": [
      "Unique value:\n",
      " ['TX000001' 'TX000002' 'TX000003' ... 'TX002510' 'TX002511' 'TX002512']\n"
     ]
    }
   ],
   "source": [
    "print(\"Unique value:\\n\", df['TransactionID'].unique())"
   ]
  },
  {
   "cell_type": "code",
   "execution_count": 9,
   "id": "fc071bf0",
   "metadata": {
    "execution": {
     "iopub.execute_input": "2024-12-11T01:51:37.422695Z",
     "iopub.status.busy": "2024-12-11T01:51:37.422163Z",
     "iopub.status.idle": "2024-12-11T01:51:37.430682Z",
     "shell.execute_reply": "2024-12-11T01:51:37.429433Z"
    },
    "papermill": {
     "duration": 0.021667,
     "end_time": "2024-12-11T01:51:37.433908",
     "exception": false,
     "start_time": "2024-12-11T01:51:37.412241",
     "status": "completed"
    },
    "tags": []
   },
   "outputs": [
    {
     "name": "stdout",
     "output_type": "stream",
     "text": [
      "Unique value:\n",
      " ['AC00128' 'AC00455' 'AC00019' 'AC00070' 'AC00411' 'AC00393' 'AC00199'\n",
      " 'AC00069' 'AC00135' 'AC00385' 'AC00150' 'AC00459' 'AC00392' 'AC00264'\n",
      " 'AC00085' 'AC00270' 'AC00317' 'AC00359' 'AC00242' 'AC00285' 'AC00002'\n",
      " 'AC00014' 'AC00095' 'AC00453' 'AC00241' 'AC00041' 'AC00441' 'AC00057'\n",
      " 'AC00390' 'AC00313' 'AC00367' 'AC00291' 'AC00060' 'AC00365' 'AC00267'\n",
      " 'AC00404' 'AC00202' 'AC00478' 'AC00405' 'AC00421' 'AC00480' 'AC00120'\n",
      " 'AC00117' 'AC00011' 'AC00401' 'AC00282' 'AC00439' 'AC00296' 'AC00471'\n",
      " 'AC00159' 'AC00482' 'AC00115' 'AC00055' 'AC00419' 'AC00374' 'AC00271'\n",
      " 'AC00456' 'AC00143' 'AC00427' 'AC00438' 'AC00425' 'AC00325' 'AC00434'\n",
      " 'AC00319' 'AC00460' 'AC00461' 'AC00395' 'AC00217' 'AC00053' 'AC00110'\n",
      " 'AC00265' 'AC00239' 'AC00007' 'AC00022' 'AC00464' 'AC00406' 'AC00445'\n",
      " 'AC00236' 'AC00220' 'AC00140' 'AC00098' 'AC00303' 'AC00373' 'AC00437'\n",
      " 'AC00106' 'AC00310' 'AC00149' 'AC00010' 'AC00348' 'AC00178' 'AC00018'\n",
      " 'AC00075' 'AC00170' 'AC00235' 'AC00013' 'AC00397' 'AC00423' 'AC00154'\n",
      " 'AC00068' 'AC00318' 'AC00396' 'AC00121' 'AC00336' 'AC00468' 'AC00498'\n",
      " 'AC00092' 'AC00295' 'AC00358' 'AC00311' 'AC00066' 'AC00340' 'AC00284'\n",
      " 'AC00208' 'AC00176' 'AC00320' 'AC00382' 'AC00384' 'AC00203' 'AC00349'\n",
      " 'AC00177' 'AC00272' 'AC00403' 'AC00114' 'AC00163' 'AC00108' 'AC00161'\n",
      " 'AC00333' 'AC00279' 'AC00072' 'AC00442' 'AC00087' 'AC00174' 'AC00111'\n",
      " 'AC00275' 'AC00492' 'AC00380' 'AC00227' 'AC00257' 'AC00062' 'AC00383'\n",
      " 'AC00182' 'AC00332' 'AC00331' 'AC00474' 'AC00268' 'AC00247' 'AC00298'\n",
      " 'AC00035' 'AC00363' 'AC00273' 'AC00156' 'AC00036' 'AC00225' 'AC00077'\n",
      " 'AC00440' 'AC00321' 'AC00099' 'AC00258' 'AC00132' 'AC00113' 'AC00047'\n",
      " 'AC00005' 'AC00426' 'AC00107' 'AC00237' 'AC00499' 'AC00452' 'AC00020'\n",
      " 'AC00181' 'AC00370' 'AC00339' 'AC00249' 'AC00479' 'AC00301' 'AC00130'\n",
      " 'AC00006' 'AC00096' 'AC00417' 'AC00391' 'AC00414' 'AC00004' 'AC00198'\n",
      " 'AC00314' 'AC00212' 'AC00430' 'AC00299' 'AC00345' 'AC00175' 'AC00394'\n",
      " 'AC00026' 'AC00076' 'AC00215' 'AC00400' 'AC00260' 'AC00415' 'AC00337'\n",
      " 'AC00253' 'AC00126' 'AC00304' 'AC00470' 'AC00073' 'AC00307' 'AC00448'\n",
      " 'AC00194' 'AC00366' 'AC00338' 'AC00424' 'AC00147' 'AC00171' 'AC00023'\n",
      " 'AC00263' 'AC00454' 'AC00009' 'AC00133' 'AC00362' 'AC00387' 'AC00451'\n",
      " 'AC00033' 'AC00093' 'AC00189' 'AC00495' 'AC00148' 'AC00381' 'AC00119'\n",
      " 'AC00488' 'AC00466' 'AC00489' 'AC00306' 'AC00431' 'AC00233' 'AC00389'\n",
      " 'AC00067' 'AC00300' 'AC00386' 'AC00219' 'AC00371' 'AC00164' 'AC00200'\n",
      " 'AC00444' 'AC00248' 'AC00286' 'AC00049' 'AC00316' 'AC00418' 'AC00187'\n",
      " 'AC00141' 'AC00493' 'AC00232' 'AC00375' 'AC00034' 'AC00376' 'AC00029'\n",
      " 'AC00040' 'AC00261' 'AC00165' 'AC00192' 'AC00063' 'AC00327' 'AC00269'\n",
      " 'AC00322' 'AC00131' 'AC00410' 'AC00329' 'AC00021' 'AC00188' 'AC00341'\n",
      " 'AC00090' 'AC00210' 'AC00251' 'AC00116' 'AC00326' 'AC00039' 'AC00293'\n",
      " 'AC00145' 'AC00292' 'AC00229' 'AC00136' 'AC00274' 'AC00262' 'AC00490'\n",
      " 'AC00196' 'AC00357' 'AC00443' 'AC00475' 'AC00080' 'AC00420' 'AC00351'\n",
      " 'AC00280' 'AC00122' 'AC00407' 'AC00290' 'AC00074' 'AC00218' 'AC00398'\n",
      " 'AC00213' 'AC00054' 'AC00350' 'AC00305' 'AC00463' 'AC00256' 'AC00166'\n",
      " 'AC00450' 'AC00433' 'AC00103' 'AC00052' 'AC00491' 'AC00353' 'AC00266'\n",
      " 'AC00167' 'AC00153' 'AC00012' 'AC00469' 'AC00127' 'AC00360' 'AC00043'\n",
      " 'AC00173' 'AC00364' 'AC00369' 'AC00152' 'AC00125' 'AC00183' 'AC00467'\n",
      " 'AC00045' 'AC00356' 'AC00465' 'AC00158' 'AC00086' 'AC00083' 'AC00402'\n",
      " 'AC00030' 'AC00216' 'AC00223' 'AC00413' 'AC00240' 'AC00378' 'AC00205'\n",
      " 'AC00429' 'AC00144' 'AC00449' 'AC00051' 'AC00211' 'AC00184' 'AC00436'\n",
      " 'AC00312' 'AC00078' 'AC00084' 'AC00354' 'AC00487' 'AC00416' 'AC00058'\n",
      " 'AC00032' 'AC00139' 'AC00056' 'AC00276' 'AC00447' 'AC00458' 'AC00071'\n",
      " 'AC00361' 'AC00323' 'AC00372' 'AC00497' 'AC00101' 'AC00328' 'AC00123'\n",
      " 'AC00330' 'AC00287' 'AC00432' 'AC00277' 'AC00137' 'AC00201' 'AC00462'\n",
      " 'AC00297' 'AC00102' 'AC00244' 'AC00457' 'AC00046' 'AC00288' 'AC00190'\n",
      " 'AC00037' 'AC00481' 'AC00324' 'AC00061' 'AC00399' 'AC00342' 'AC00027'\n",
      " 'AC00422' 'AC00050' 'AC00129' 'AC00180' 'AC00169' 'AC00065' 'AC00185'\n",
      " 'AC00124' 'AC00412' 'AC00302' 'AC00094' 'AC00278' 'AC00109' 'AC00222'\n",
      " 'AC00179' 'AC00352' 'AC00230' 'AC00224' 'AC00160' 'AC00254' 'AC00446'\n",
      " 'AC00157' 'AC00377' 'AC00243' 'AC00017' 'AC00355' 'AC00477' 'AC00496'\n",
      " 'AC00281' 'AC00082' 'AC00368' 'AC00255' 'AC00209' 'AC00246' 'AC00214'\n",
      " 'AC00204' 'AC00485' 'AC00024' 'AC00100' 'AC00228' 'AC00151' 'AC00191'\n",
      " 'AC00089' 'AC00025' 'AC00245' 'AC00105' 'AC00016' 'AC00379' 'AC00309'\n",
      " 'AC00044' 'AC00483' 'AC00347' 'AC00428' 'AC00097' 'AC00334' 'AC00494'\n",
      " 'AC00079' 'AC00231' 'AC00221' 'AC00409' 'AC00138' 'AC00091' 'AC00001'\n",
      " 'AC00259' 'AC00250' 'AC00344' 'AC00335' 'AC00042' 'AC00315' 'AC00104'\n",
      " 'AC00207' 'AC00059' 'AC00346' 'AC00118' 'AC00028' 'AC00162' 'AC00015'\n",
      " 'AC00193' 'AC00142' 'AC00435' 'AC00294' 'AC00172' 'AC00112' 'AC00081'\n",
      " 'AC00155' 'AC00289' 'AC00048' 'AC00283' 'AC00197' 'AC00500' 'AC00408'\n",
      " 'AC00473' 'AC00486' 'AC00146' 'AC00003' 'AC00134' 'AC00206' 'AC00168'\n",
      " 'AC00064' 'AC00195' 'AC00088' 'AC00388' 'AC00008' 'AC00252' 'AC00186'\n",
      " 'AC00472' 'AC00476' 'AC00038' 'AC00238' 'AC00308']\n"
     ]
    }
   ],
   "source": [
    "print(\"Unique value:\\n\", df['AccountID'].unique())"
   ]
  },
  {
   "cell_type": "code",
   "execution_count": 10,
   "id": "3d48885f",
   "metadata": {
    "execution": {
     "iopub.execute_input": "2024-12-11T01:51:37.452877Z",
     "iopub.status.busy": "2024-12-11T01:51:37.452332Z",
     "iopub.status.idle": "2024-12-11T01:51:37.468834Z",
     "shell.execute_reply": "2024-12-11T01:51:37.467566Z"
    },
    "papermill": {
     "duration": 0.029072,
     "end_time": "2024-12-11T01:51:37.471419",
     "exception": false,
     "start_time": "2024-12-11T01:51:37.442347",
     "status": "completed"
    },
    "tags": []
   },
   "outputs": [
    {
     "data": {
      "text/plain": [
       "count    2512.000000\n",
       "mean      119.643312\n",
       "std        69.963757\n",
       "min        10.000000\n",
       "25%        63.000000\n",
       "50%       112.500000\n",
       "75%       161.000000\n",
       "max       300.000000\n",
       "Name: TransactionDuration, dtype: float64"
      ]
     },
     "execution_count": 10,
     "metadata": {},
     "output_type": "execute_result"
    }
   ],
   "source": [
    "df['TransactionDuration'].describe()"
   ]
  },
  {
   "cell_type": "code",
   "execution_count": 11,
   "id": "1f49d5fe",
   "metadata": {
    "execution": {
     "iopub.execute_input": "2024-12-11T01:51:37.491134Z",
     "iopub.status.busy": "2024-12-11T01:51:37.490735Z",
     "iopub.status.idle": "2024-12-11T01:51:37.502137Z",
     "shell.execute_reply": "2024-12-11T01:51:37.501005Z"
    },
    "papermill": {
     "duration": 0.0238,
     "end_time": "2024-12-11T01:51:37.504252",
     "exception": false,
     "start_time": "2024-12-11T01:51:37.480452",
     "status": "completed"
    },
    "tags": []
   },
   "outputs": [
    {
     "data": {
      "text/plain": [
       "count    2512.000000\n",
       "mean        1.124602\n",
       "std         0.602662\n",
       "min         1.000000\n",
       "25%         1.000000\n",
       "50%         1.000000\n",
       "75%         1.000000\n",
       "max         5.000000\n",
       "Name: LoginAttempts, dtype: float64"
      ]
     },
     "execution_count": 11,
     "metadata": {},
     "output_type": "execute_result"
    }
   ],
   "source": [
    "df['LoginAttempts'].describe()"
   ]
  },
  {
   "cell_type": "code",
   "execution_count": 12,
   "id": "758462da",
   "metadata": {
    "execution": {
     "iopub.execute_input": "2024-12-11T01:51:37.523003Z",
     "iopub.status.busy": "2024-12-11T01:51:37.522579Z",
     "iopub.status.idle": "2024-12-11T01:51:37.538008Z",
     "shell.execute_reply": "2024-12-11T01:51:37.536500Z"
    },
    "papermill": {
     "duration": 0.028114,
     "end_time": "2024-12-11T01:51:37.540699",
     "exception": false,
     "start_time": "2024-12-11T01:51:37.512585",
     "status": "completed"
    },
    "tags": []
   },
   "outputs": [
    {
     "name": "stdout",
     "output_type": "stream",
     "text": [
      "Empty DataFrame\n",
      "Columns: [TransactionID, AccountID, TransactionAmount, TransactionDate, TransactionType, Location, DeviceID, IP Address, MerchantID, Channel, CustomerAge, CustomerOccupation, TransactionDuration, LoginAttempts, AccountBalance, PreviousTransactionDate]\n",
      "Index: []\n"
     ]
    }
   ],
   "source": [
    "Q1 = df['TransactionDuration'].quantile(0.25)\n",
    "Q3 = df['TransactionDuration'].quantile(0.75)\n",
    "IQR = Q3 - Q1\n",
    "outliers = df[(df['TransactionDuration'] < Q1 - 1.5 * IQR) | (df['TransactionDuration'] > Q3 + 1.5 * IQR)]\n",
    "print(outliers)"
   ]
  },
  {
   "cell_type": "code",
   "execution_count": 13,
   "id": "ec27ace8",
   "metadata": {
    "execution": {
     "iopub.execute_input": "2024-12-11T01:51:37.560164Z",
     "iopub.status.busy": "2024-12-11T01:51:37.559271Z",
     "iopub.status.idle": "2024-12-11T01:51:37.577256Z",
     "shell.execute_reply": "2024-12-11T01:51:37.575866Z"
    },
    "papermill": {
     "duration": 0.030157,
     "end_time": "2024-12-11T01:51:37.579505",
     "exception": false,
     "start_time": "2024-12-11T01:51:37.549348",
     "status": "completed"
    },
    "tags": []
   },
   "outputs": [
    {
     "name": "stdout",
     "output_type": "stream",
     "text": [
      "     TransactionID AccountID  TransactionAmount     TransactionDate  \\\n",
      "23        TX000024   AC00453             345.84 2023-05-02 18:25:46   \n",
      "26        TX000027   AC00441             246.93 2023-04-17 16:37:01   \n",
      "32        TX000033   AC00060             396.45 2023-09-25 16:26:00   \n",
      "38        TX000039   AC00478             795.31 2023-10-12 17:07:40   \n",
      "61        TX000062   AC00002             263.99 2023-05-16 16:07:30   \n",
      "...            ...       ...                ...                 ...   \n",
      "2423      TX002424   AC00340             332.06 2023-06-21 16:38:54   \n",
      "2445      TX002446   AC00439             403.01 2023-09-04 17:32:35   \n",
      "2455      TX002456   AC00043             655.81 2023-05-05 16:52:44   \n",
      "2457      TX002458   AC00315              79.92 2023-02-06 17:32:11   \n",
      "2492      TX002493   AC00057             267.48 2023-01-30 17:05:46   \n",
      "\n",
      "     TransactionType     Location DeviceID      IP Address MerchantID Channel  \\\n",
      "23             Debit   Fort Worth  D000162  191.82.103.198       M083  Online   \n",
      "26             Debit        Miami  D000046  55.154.161.250       M029     ATM   \n",
      "32             Debit     New York  D000621  133.67.250.163       M007     ATM   \n",
      "38             Debit         Mesa  D000077    49.29.37.185       M048     ATM   \n",
      "61             Debit       Dallas  D000285    7.146.35.122       M087  Branch   \n",
      "...              ...          ...      ...             ...        ...     ...   \n",
      "2423           Debit      Seattle  D000365   94.37.250.128       M086     ATM   \n",
      "2445           Debit   Washington  D000677   223.32.70.156       M029  Online   \n",
      "2455           Debit        Omaha  D000567    86.83.61.143       M044     ATM   \n",
      "2457           Debit        Miami  D000193      42.3.3.101       M003     ATM   \n",
      "2492           Debit  Albuquerque  D000497  170.225.23.251       M002     ATM   \n",
      "\n",
      "      CustomerAge CustomerOccupation  TransactionDuration  LoginAttempts  \\\n",
      "23             22            Student                  142              3   \n",
      "26             23            Student                  158              5   \n",
      "32             49           Engineer                  168              3   \n",
      "38             66             Doctor                   90              2   \n",
      "61             79            Retired                  227              2   \n",
      "...           ...                ...                  ...            ...   \n",
      "2423           29             Doctor                  221              4   \n",
      "2445           63             Doctor                  286              3   \n",
      "2455           55            Retired                  164              2   \n",
      "2457           44           Engineer                  274              2   \n",
      "2492           21            Student                  159              2   \n",
      "\n",
      "      AccountBalance PreviousTransactionDate  \n",
      "23           1402.50     2024-11-04 08:07:04  \n",
      "26            673.35     2024-11-04 08:11:38  \n",
      "32           9690.15     2024-11-04 08:11:13  \n",
      "38           7914.88     2024-11-04 08:11:17  \n",
      "61           4175.02     2024-11-04 08:11:03  \n",
      "...              ...                     ...  \n",
      "2423        11826.52     2024-11-04 08:06:23  \n",
      "2445        10513.52     2024-11-04 08:09:32  \n",
      "2455         4539.99     2024-11-04 08:12:08  \n",
      "2457         9138.76     2024-11-04 08:09:14  \n",
      "2492          811.86     2024-11-04 08:09:32  \n",
      "\n",
      "[122 rows x 16 columns]\n"
     ]
    }
   ],
   "source": [
    "Q1 = df['LoginAttempts'].quantile(0.25)\n",
    "Q3 = df['LoginAttempts'].quantile(0.75)\n",
    "IQR = Q3 - Q1\n",
    "outliers = df[(df['LoginAttempts'] < Q1 - 1.5 * IQR) | (df['LoginAttempts'] > Q3 + 1.5 * IQR)]\n",
    "print(outliers)"
   ]
  },
  {
   "cell_type": "code",
   "execution_count": 14,
   "id": "23865133",
   "metadata": {
    "execution": {
     "iopub.execute_input": "2024-12-11T01:51:37.598706Z",
     "iopub.status.busy": "2024-12-11T01:51:37.597878Z",
     "iopub.status.idle": "2024-12-11T01:51:37.608769Z",
     "shell.execute_reply": "2024-12-11T01:51:37.607664Z"
    },
    "papermill": {
     "duration": 0.023038,
     "end_time": "2024-12-11T01:51:37.611254",
     "exception": false,
     "start_time": "2024-12-11T01:51:37.588216",
     "status": "completed"
    },
    "tags": []
   },
   "outputs": [
    {
     "data": {
      "text/plain": [
       "TransactionID              0\n",
       "AccountID                  0\n",
       "TransactionAmount          0\n",
       "TransactionDate            0\n",
       "TransactionType            0\n",
       "Location                   0\n",
       "DeviceID                   0\n",
       "IP Address                 0\n",
       "MerchantID                 0\n",
       "Channel                    0\n",
       "CustomerAge                0\n",
       "CustomerOccupation         0\n",
       "TransactionDuration        0\n",
       "LoginAttempts              0\n",
       "AccountBalance             0\n",
       "PreviousTransactionDate    0\n",
       "dtype: int64"
      ]
     },
     "execution_count": 14,
     "metadata": {},
     "output_type": "execute_result"
    }
   ],
   "source": [
    "df.isnull().sum()"
   ]
  },
  {
   "cell_type": "code",
   "execution_count": 15,
   "id": "da2fae89",
   "metadata": {
    "execution": {
     "iopub.execute_input": "2024-12-11T01:51:37.631852Z",
     "iopub.status.busy": "2024-12-11T01:51:37.630856Z",
     "iopub.status.idle": "2024-12-11T01:51:37.644852Z",
     "shell.execute_reply": "2024-12-11T01:51:37.643645Z"
    },
    "papermill": {
     "duration": 0.0268,
     "end_time": "2024-12-11T01:51:37.647481",
     "exception": false,
     "start_time": "2024-12-11T01:51:37.620681",
     "status": "completed"
    },
    "tags": []
   },
   "outputs": [
    {
     "name": "stdout",
     "output_type": "stream",
     "text": [
      "     TransactionID AccountID  TransactionAmount     TransactionDate  \\\n",
      "23        TX000024   AC00453             345.84 2023-05-02 18:25:46   \n",
      "26        TX000027   AC00441             246.93 2023-04-17 16:37:01   \n",
      "32        TX000033   AC00060             396.45 2023-09-25 16:26:00   \n",
      "38        TX000039   AC00478             795.31 2023-10-12 17:07:40   \n",
      "61        TX000062   AC00002             263.99 2023-05-16 16:07:30   \n",
      "...            ...       ...                ...                 ...   \n",
      "2423      TX002424   AC00340             332.06 2023-06-21 16:38:54   \n",
      "2445      TX002446   AC00439             403.01 2023-09-04 17:32:35   \n",
      "2455      TX002456   AC00043             655.81 2023-05-05 16:52:44   \n",
      "2457      TX002458   AC00315              79.92 2023-02-06 17:32:11   \n",
      "2492      TX002493   AC00057             267.48 2023-01-30 17:05:46   \n",
      "\n",
      "     TransactionType     Location DeviceID      IP Address MerchantID Channel  \\\n",
      "23             Debit   Fort Worth  D000162  191.82.103.198       M083  Online   \n",
      "26             Debit        Miami  D000046  55.154.161.250       M029     ATM   \n",
      "32             Debit     New York  D000621  133.67.250.163       M007     ATM   \n",
      "38             Debit         Mesa  D000077    49.29.37.185       M048     ATM   \n",
      "61             Debit       Dallas  D000285    7.146.35.122       M087  Branch   \n",
      "...              ...          ...      ...             ...        ...     ...   \n",
      "2423           Debit      Seattle  D000365   94.37.250.128       M086     ATM   \n",
      "2445           Debit   Washington  D000677   223.32.70.156       M029  Online   \n",
      "2455           Debit        Omaha  D000567    86.83.61.143       M044     ATM   \n",
      "2457           Debit        Miami  D000193      42.3.3.101       M003     ATM   \n",
      "2492           Debit  Albuquerque  D000497  170.225.23.251       M002     ATM   \n",
      "\n",
      "      CustomerAge CustomerOccupation  TransactionDuration  LoginAttempts  \\\n",
      "23             22            Student                  142              3   \n",
      "26             23            Student                  158              5   \n",
      "32             49           Engineer                  168              3   \n",
      "38             66             Doctor                   90              2   \n",
      "61             79            Retired                  227              2   \n",
      "...           ...                ...                  ...            ...   \n",
      "2423           29             Doctor                  221              4   \n",
      "2445           63             Doctor                  286              3   \n",
      "2455           55            Retired                  164              2   \n",
      "2457           44           Engineer                  274              2   \n",
      "2492           21            Student                  159              2   \n",
      "\n",
      "      AccountBalance PreviousTransactionDate  \n",
      "23           1402.50     2024-11-04 08:07:04  \n",
      "26            673.35     2024-11-04 08:11:38  \n",
      "32           9690.15     2024-11-04 08:11:13  \n",
      "38           7914.88     2024-11-04 08:11:17  \n",
      "61           4175.02     2024-11-04 08:11:03  \n",
      "...              ...                     ...  \n",
      "2423        11826.52     2024-11-04 08:06:23  \n",
      "2445        10513.52     2024-11-04 08:09:32  \n",
      "2455         4539.99     2024-11-04 08:12:08  \n",
      "2457         9138.76     2024-11-04 08:09:14  \n",
      "2492          811.86     2024-11-04 08:09:32  \n",
      "\n",
      "[122 rows x 16 columns]\n"
     ]
    }
   ],
   "source": [
    "login_gt_one = df[df['LoginAttempts'] > 1]\n",
    "\n",
    "print(login_gt_one)"
   ]
  },
  {
   "cell_type": "code",
   "execution_count": 16,
   "id": "cb137f7b",
   "metadata": {
    "execution": {
     "iopub.execute_input": "2024-12-11T01:51:37.667024Z",
     "iopub.status.busy": "2024-12-11T01:51:37.666547Z",
     "iopub.status.idle": "2024-12-11T01:51:37.672852Z",
     "shell.execute_reply": "2024-12-11T01:51:37.671657Z"
    },
    "papermill": {
     "duration": 0.019829,
     "end_time": "2024-12-11T01:51:37.676103",
     "exception": false,
     "start_time": "2024-12-11T01:51:37.656274",
     "status": "completed"
    },
    "tags": []
   },
   "outputs": [
    {
     "name": "stdout",
     "output_type": "stream",
     "text": [
      "Percentage of users with more than 1 login: 4.86%\n"
     ]
    }
   ],
   "source": [
    "total_users = len(df)\n",
    "\n",
    "users_with_multiple_logins = len(login_gt_one)\n",
    "\n",
    "percentage = (users_with_multiple_logins / total_users) * 100\n",
    "\n",
    "print(f\"Percentage of users with more than 1 login: {percentage:.2f}%\")"
   ]
  },
  {
   "cell_type": "markdown",
   "id": "b268773c",
   "metadata": {
    "papermill": {
     "duration": 0.009041,
     "end_time": "2024-12-11T01:51:37.694271",
     "exception": false,
     "start_time": "2024-12-11T01:51:37.685230",
     "status": "completed"
    },
    "tags": []
   },
   "source": [
    "# 1. Transactional Patterns"
   ]
  },
  {
   "cell_type": "code",
   "execution_count": 17,
   "id": "d2154994",
   "metadata": {
    "execution": {
     "iopub.execute_input": "2024-12-11T01:51:37.717690Z",
     "iopub.status.busy": "2024-12-11T01:51:37.717176Z",
     "iopub.status.idle": "2024-12-11T01:51:37.736723Z",
     "shell.execute_reply": "2024-12-11T01:51:37.735388Z"
    },
    "papermill": {
     "duration": 0.03394,
     "end_time": "2024-12-11T01:51:37.739218",
     "exception": false,
     "start_time": "2024-12-11T01:51:37.705278",
     "status": "completed"
    },
    "tags": []
   },
   "outputs": [
    {
     "data": {
      "text/html": [
       "<div>\n",
       "<style scoped>\n",
       "    .dataframe tbody tr th:only-of-type {\n",
       "        vertical-align: middle;\n",
       "    }\n",
       "\n",
       "    .dataframe tbody tr th {\n",
       "        vertical-align: top;\n",
       "    }\n",
       "\n",
       "    .dataframe thead th {\n",
       "        text-align: right;\n",
       "    }\n",
       "</style>\n",
       "<table border=\"1\" class=\"dataframe\">\n",
       "  <thead>\n",
       "    <tr style=\"text-align: right;\">\n",
       "      <th></th>\n",
       "      <th>TransactionID</th>\n",
       "      <th>AccountID</th>\n",
       "      <th>TransactionAmount</th>\n",
       "      <th>TransactionDate</th>\n",
       "      <th>TransactionType</th>\n",
       "      <th>Location</th>\n",
       "      <th>DeviceID</th>\n",
       "      <th>IP Address</th>\n",
       "      <th>MerchantID</th>\n",
       "      <th>Channel</th>\n",
       "      <th>CustomerAge</th>\n",
       "      <th>CustomerOccupation</th>\n",
       "      <th>TransactionDuration</th>\n",
       "      <th>LoginAttempts</th>\n",
       "      <th>AccountBalance</th>\n",
       "      <th>PreviousTransactionDate</th>\n",
       "    </tr>\n",
       "  </thead>\n",
       "  <tbody>\n",
       "    <tr>\n",
       "      <th>0</th>\n",
       "      <td>TX000001</td>\n",
       "      <td>AC00128</td>\n",
       "      <td>14.09</td>\n",
       "      <td>2023-04-11 16:29:14</td>\n",
       "      <td>Debit</td>\n",
       "      <td>San Diego</td>\n",
       "      <td>D000380</td>\n",
       "      <td>162.198.218.92</td>\n",
       "      <td>M015</td>\n",
       "      <td>ATM</td>\n",
       "      <td>70</td>\n",
       "      <td>Doctor</td>\n",
       "      <td>81</td>\n",
       "      <td>1</td>\n",
       "      <td>5112.21</td>\n",
       "      <td>2024-11-04 08:08:08</td>\n",
       "    </tr>\n",
       "    <tr>\n",
       "      <th>1</th>\n",
       "      <td>TX000002</td>\n",
       "      <td>AC00455</td>\n",
       "      <td>376.24</td>\n",
       "      <td>2023-06-27 16:44:19</td>\n",
       "      <td>Debit</td>\n",
       "      <td>Houston</td>\n",
       "      <td>D000051</td>\n",
       "      <td>13.149.61.4</td>\n",
       "      <td>M052</td>\n",
       "      <td>ATM</td>\n",
       "      <td>68</td>\n",
       "      <td>Doctor</td>\n",
       "      <td>141</td>\n",
       "      <td>1</td>\n",
       "      <td>13758.91</td>\n",
       "      <td>2024-11-04 08:09:35</td>\n",
       "    </tr>\n",
       "    <tr>\n",
       "      <th>2</th>\n",
       "      <td>TX000003</td>\n",
       "      <td>AC00019</td>\n",
       "      <td>126.29</td>\n",
       "      <td>2023-07-10 18:16:08</td>\n",
       "      <td>Debit</td>\n",
       "      <td>Mesa</td>\n",
       "      <td>D000235</td>\n",
       "      <td>215.97.143.157</td>\n",
       "      <td>M009</td>\n",
       "      <td>Online</td>\n",
       "      <td>19</td>\n",
       "      <td>Student</td>\n",
       "      <td>56</td>\n",
       "      <td>1</td>\n",
       "      <td>1122.35</td>\n",
       "      <td>2024-11-04 08:07:04</td>\n",
       "    </tr>\n",
       "    <tr>\n",
       "      <th>3</th>\n",
       "      <td>TX000004</td>\n",
       "      <td>AC00070</td>\n",
       "      <td>184.50</td>\n",
       "      <td>2023-05-05 16:32:11</td>\n",
       "      <td>Debit</td>\n",
       "      <td>Raleigh</td>\n",
       "      <td>D000187</td>\n",
       "      <td>200.13.225.150</td>\n",
       "      <td>M002</td>\n",
       "      <td>Online</td>\n",
       "      <td>26</td>\n",
       "      <td>Student</td>\n",
       "      <td>25</td>\n",
       "      <td>1</td>\n",
       "      <td>8569.06</td>\n",
       "      <td>2024-11-04 08:09:06</td>\n",
       "    </tr>\n",
       "    <tr>\n",
       "      <th>4</th>\n",
       "      <td>TX000005</td>\n",
       "      <td>AC00411</td>\n",
       "      <td>13.45</td>\n",
       "      <td>2023-10-16 17:51:24</td>\n",
       "      <td>Credit</td>\n",
       "      <td>Atlanta</td>\n",
       "      <td>D000308</td>\n",
       "      <td>65.164.3.100</td>\n",
       "      <td>M091</td>\n",
       "      <td>Online</td>\n",
       "      <td>26</td>\n",
       "      <td>Student</td>\n",
       "      <td>198</td>\n",
       "      <td>1</td>\n",
       "      <td>7429.40</td>\n",
       "      <td>2024-11-04 08:06:39</td>\n",
       "    </tr>\n",
       "  </tbody>\n",
       "</table>\n",
       "</div>"
      ],
      "text/plain": [
       "  TransactionID AccountID  TransactionAmount     TransactionDate  \\\n",
       "0      TX000001   AC00128              14.09 2023-04-11 16:29:14   \n",
       "1      TX000002   AC00455             376.24 2023-06-27 16:44:19   \n",
       "2      TX000003   AC00019             126.29 2023-07-10 18:16:08   \n",
       "3      TX000004   AC00070             184.50 2023-05-05 16:32:11   \n",
       "4      TX000005   AC00411              13.45 2023-10-16 17:51:24   \n",
       "\n",
       "  TransactionType   Location DeviceID      IP Address MerchantID Channel  \\\n",
       "0           Debit  San Diego  D000380  162.198.218.92       M015     ATM   \n",
       "1           Debit    Houston  D000051     13.149.61.4       M052     ATM   \n",
       "2           Debit       Mesa  D000235  215.97.143.157       M009  Online   \n",
       "3           Debit    Raleigh  D000187  200.13.225.150       M002  Online   \n",
       "4          Credit    Atlanta  D000308    65.164.3.100       M091  Online   \n",
       "\n",
       "   CustomerAge CustomerOccupation  TransactionDuration  LoginAttempts  \\\n",
       "0           70             Doctor                   81              1   \n",
       "1           68             Doctor                  141              1   \n",
       "2           19            Student                   56              1   \n",
       "3           26            Student                   25              1   \n",
       "4           26            Student                  198              1   \n",
       "\n",
       "   AccountBalance PreviousTransactionDate  \n",
       "0         5112.21     2024-11-04 08:08:08  \n",
       "1        13758.91     2024-11-04 08:09:35  \n",
       "2         1122.35     2024-11-04 08:07:04  \n",
       "3         8569.06     2024-11-04 08:09:06  \n",
       "4         7429.40     2024-11-04 08:06:39  "
      ]
     },
     "execution_count": 17,
     "metadata": {},
     "output_type": "execute_result"
    }
   ],
   "source": [
    "df.head()"
   ]
  },
  {
   "cell_type": "code",
   "execution_count": 18,
   "id": "6bc7d564",
   "metadata": {
    "execution": {
     "iopub.execute_input": "2024-12-11T01:51:37.759244Z",
     "iopub.status.busy": "2024-12-11T01:51:37.758836Z",
     "iopub.status.idle": "2024-12-11T01:51:37.776781Z",
     "shell.execute_reply": "2024-12-11T01:51:37.775476Z"
    },
    "papermill": {
     "duration": 0.030655,
     "end_time": "2024-12-11T01:51:37.779081",
     "exception": false,
     "start_time": "2024-12-11T01:51:37.748426",
     "status": "completed"
    },
    "tags": []
   },
   "outputs": [
    {
     "name": "stdout",
     "output_type": "stream",
     "text": [
      "TransactionDate\n",
      "2023-01-02    19\n",
      "2023-01-03     9\n",
      "2023-01-04     4\n",
      "2023-01-05     8\n",
      "2023-01-06     7\n",
      "              ..\n",
      "2023-12-26     5\n",
      "2023-12-27     4\n",
      "2023-12-28     7\n",
      "2023-12-29     9\n",
      "2024-01-01    13\n",
      "Name: TransactionID, Length: 261, dtype: int64\n",
      "TransactionDate\n",
      "2023-01    207\n",
      "2023-02    218\n",
      "2023-03    197\n",
      "2023-04    161\n",
      "2023-05    220\n",
      "2023-06    212\n",
      "2023-07    195\n",
      "2023-08    224\n",
      "2023-09    214\n",
      "2023-10    226\n",
      "2023-11    221\n",
      "2023-12    204\n",
      "2024-01     13\n",
      "Freq: M, Name: TransactionID, dtype: int64\n"
     ]
    }
   ],
   "source": [
    "daily_transactions = df.groupby(df['TransactionDate'].dt.date)['TransactionID'].count()\n",
    "print(daily_transactions)\n",
    "\n",
    "monthly_transactions = df.groupby(df['TransactionDate'].dt.to_period('M'))['TransactionID'].count()\n",
    "print(monthly_transactions)"
   ]
  },
  {
   "cell_type": "code",
   "execution_count": 19,
   "id": "0cc36a55",
   "metadata": {
    "execution": {
     "iopub.execute_input": "2024-12-11T01:51:37.800851Z",
     "iopub.status.busy": "2024-12-11T01:51:37.799872Z",
     "iopub.status.idle": "2024-12-11T01:51:37.807180Z",
     "shell.execute_reply": "2024-12-11T01:51:37.806100Z"
    },
    "papermill": {
     "duration": 0.021516,
     "end_time": "2024-12-11T01:51:37.809911",
     "exception": false,
     "start_time": "2024-12-11T01:51:37.788395",
     "status": "completed"
    },
    "tags": []
   },
   "outputs": [
    {
     "name": "stdout",
     "output_type": "stream",
     "text": [
      "TransactionType\n",
      "Debit     1944\n",
      "Credit     568\n",
      "Name: count, dtype: int64\n"
     ]
    }
   ],
   "source": [
    "transaction_type_dist = df['TransactionType'].value_counts()\n",
    "print(transaction_type_dist)"
   ]
  },
  {
   "cell_type": "code",
   "execution_count": 20,
   "id": "e3228902",
   "metadata": {
    "execution": {
     "iopub.execute_input": "2024-12-11T01:51:37.832042Z",
     "iopub.status.busy": "2024-12-11T01:51:37.830671Z",
     "iopub.status.idle": "2024-12-11T01:51:37.841074Z",
     "shell.execute_reply": "2024-12-11T01:51:37.839666Z"
    },
    "papermill": {
     "duration": 0.024217,
     "end_time": "2024-12-11T01:51:37.843687",
     "exception": false,
     "start_time": "2024-12-11T01:51:37.819470",
     "status": "completed"
    },
    "tags": []
   },
   "outputs": [
    {
     "name": "stdout",
     "output_type": "stream",
     "text": [
      "Hour\n",
      "16    1316\n",
      "17     819\n",
      "18     377\n",
      "Name: TransactionID, dtype: int64\n"
     ]
    }
   ],
   "source": [
    "df['Hour'] = df['TransactionDate'].dt.hour\n",
    "\n",
    "transactions_per_hour = df.groupby('Hour')['TransactionID'].count()\n",
    "print(transactions_per_hour)"
   ]
  },
  {
   "cell_type": "code",
   "execution_count": 21,
   "id": "485d961a",
   "metadata": {
    "execution": {
     "iopub.execute_input": "2024-12-11T01:51:37.863888Z",
     "iopub.status.busy": "2024-12-11T01:51:37.863476Z",
     "iopub.status.idle": "2024-12-11T01:51:37.872951Z",
     "shell.execute_reply": "2024-12-11T01:51:37.871861Z"
    },
    "papermill": {
     "duration": 0.022875,
     "end_time": "2024-12-11T01:51:37.875883",
     "exception": false,
     "start_time": "2024-12-11T01:51:37.853008",
     "status": "completed"
    },
    "tags": []
   },
   "outputs": [
    {
     "name": "stdout",
     "output_type": "stream",
     "text": [
      "DayOfWeek\n",
      "Monday       1070\n",
      "Friday        373\n",
      "Thursday      368\n",
      "Tuesday       360\n",
      "Wednesday     341\n",
      "Name: count, dtype: int64\n"
     ]
    }
   ],
   "source": [
    "df['DayOfWeek'] = df['TransactionDate'].dt.day_name()\n",
    "\n",
    "transactions_per_day = df['DayOfWeek'].value_counts()\n",
    "print(transactions_per_day)"
   ]
  },
  {
   "cell_type": "code",
   "execution_count": 22,
   "id": "983c2af9",
   "metadata": {
    "execution": {
     "iopub.execute_input": "2024-12-11T01:51:37.896352Z",
     "iopub.status.busy": "2024-12-11T01:51:37.895981Z",
     "iopub.status.idle": "2024-12-11T01:51:37.903270Z",
     "shell.execute_reply": "2024-12-11T01:51:37.902054Z"
    },
    "papermill": {
     "duration": 0.021005,
     "end_time": "2024-12-11T01:51:37.906309",
     "exception": false,
     "start_time": "2024-12-11T01:51:37.885304",
     "status": "completed"
    },
    "tags": []
   },
   "outputs": [
    {
     "name": "stdout",
     "output_type": "stream",
     "text": [
      "Location\n",
      "Fort Worth          70\n",
      "Los Angeles         69\n",
      "Oklahoma City       68\n",
      "Charlotte           68\n",
      "Tucson              67\n",
      "Philadelphia        67\n",
      "Omaha               65\n",
      "Miami               64\n",
      "Detroit             63\n",
      "Houston             63\n",
      "Memphis             63\n",
      "Denver              62\n",
      "Kansas City         61\n",
      "Boston              61\n",
      "Mesa                61\n",
      "Atlanta             61\n",
      "Seattle             61\n",
      "Colorado Springs    60\n",
      "Jacksonville        60\n",
      "Fresno              60\n",
      "Chicago             60\n",
      "Austin              59\n",
      "San Jose            59\n",
      "Raleigh             59\n",
      "San Antonio         59\n",
      "San Diego           59\n",
      "Indianapolis        58\n",
      "New York            58\n",
      "San Francisco       57\n",
      "Nashville           55\n",
      "Milwaukee           55\n",
      "Las Vegas           55\n",
      "Virginia Beach      55\n",
      "Phoenix             55\n",
      "Columbus            54\n",
      "Sacramento          53\n",
      "Baltimore           51\n",
      "Louisville          51\n",
      "Dallas              49\n",
      "Washington          48\n",
      "El Paso             46\n",
      "Portland            42\n",
      "Albuquerque         41\n",
      "Name: count, dtype: int64\n"
     ]
    }
   ],
   "source": [
    "location_analysis = df['Location'].value_counts()\n",
    "print(location_analysis)"
   ]
  },
  {
   "cell_type": "code",
   "execution_count": 23,
   "id": "ea389170",
   "metadata": {
    "execution": {
     "iopub.execute_input": "2024-12-11T01:51:37.927228Z",
     "iopub.status.busy": "2024-12-11T01:51:37.926815Z",
     "iopub.status.idle": "2024-12-11T01:51:38.328796Z",
     "shell.execute_reply": "2024-12-11T01:51:38.327673Z"
    },
    "papermill": {
     "duration": 0.415262,
     "end_time": "2024-12-11T01:51:38.331235",
     "exception": false,
     "start_time": "2024-12-11T01:51:37.915973",
     "status": "completed"
    },
    "tags": []
   },
   "outputs": [
    {
     "name": "stderr",
     "output_type": "stream",
     "text": [
      "/opt/conda/lib/python3.10/site-packages/seaborn/_oldcore.py:1119: FutureWarning: use_inf_as_na option is deprecated and will be removed in a future version. Convert inf values to NaN before operating instead.\n",
      "  with pd.option_context('mode.use_inf_as_na', True):\n"
     ]
    },
    {
     "data": {
      "image/png": "[encoded data removed]",
      "text/plain": [
       "<Figure size 640x480 with 1 Axes>"
      ]
     },
     "metadata": {},
     "output_type": "display_data"
    }
   ],
   "source": [
    "sns.histplot(df['TransactionAmount'], kde=True, bins=30)\n",
    "plt.title('Distribution of Transaction Value')\n",
    "plt.xlabel('Transaction Amount')\n",
    "plt.ylabel('Frequency')\n",
    "plt.show()"
   ]
  },
  {
   "cell_type": "code",
   "execution_count": 24,
   "id": "fb6e90a8",
   "metadata": {
    "execution": {
     "iopub.execute_input": "2024-12-11T01:51:38.355662Z",
     "iopub.status.busy": "2024-12-11T01:51:38.355192Z",
     "iopub.status.idle": "2024-12-11T01:51:38.366499Z",
     "shell.execute_reply": "2024-12-11T01:51:38.365284Z"
    },
    "papermill": {
     "duration": 0.027597,
     "end_time": "2024-12-11T01:51:38.369112",
     "exception": false,
     "start_time": "2024-12-11T01:51:38.341515",
     "status": "completed"
    },
    "tags": []
   },
   "outputs": [
    {
     "name": "stdout",
     "output_type": "stream",
     "text": [
      "MerchantID\n",
      "M026    13865.15\n",
      "M066    11948.75\n",
      "M005    11099.93\n",
      "M048    10954.79\n",
      "M009    10526.04\n",
      "          ...   \n",
      "M090     4212.78\n",
      "M022     3522.76\n",
      "M063     3202.42\n",
      "M069     2868.59\n",
      "M079     2095.33\n",
      "Name: TransactionAmount, Length: 100, dtype: float64\n"
     ]
    }
   ],
   "source": [
    "merchant_analysis = df.groupby('MerchantID')['TransactionAmount'].sum().sort_values(ascending=False)\n",
    "print(merchant_analysis)"
   ]
  },
  {
   "cell_type": "code",
   "execution_count": 25,
   "id": "a57e41b1",
   "metadata": {
    "execution": {
     "iopub.execute_input": "2024-12-11T01:51:38.391866Z",
     "iopub.status.busy": "2024-12-11T01:51:38.391383Z",
     "iopub.status.idle": "2024-12-11T01:51:38.400668Z",
     "shell.execute_reply": "2024-12-11T01:51:38.399263Z"
    },
    "papermill": {
     "duration": 0.023138,
     "end_time": "2024-12-11T01:51:38.402892",
     "exception": false,
     "start_time": "2024-12-11T01:51:38.379754",
     "status": "completed"
    },
    "tags": []
   },
   "outputs": [
    {
     "name": "stdout",
     "output_type": "stream",
     "text": [
      "AccountID\n",
      "AC00202    12\n",
      "AC00460    12\n",
      "AC00363    12\n",
      "AC00362    12\n",
      "AC00456    11\n",
      "AC00480    11\n",
      "AC00257    11\n",
      "AC00304    11\n",
      "AC00225    11\n",
      "AC00063    10\n",
      "Name: TransactionID, dtype: int64\n"
     ]
    }
   ],
   "source": [
    "account_activity = df.groupby('AccountID')['TransactionID'].count()\n",
    "print(account_activity.sort_values(ascending=False).head(10))"
   ]
  },
  {
   "cell_type": "code",
   "execution_count": 26,
   "id": "3c119a04",
   "metadata": {
    "execution": {
     "iopub.execute_input": "2024-12-11T01:51:38.425249Z",
     "iopub.status.busy": "2024-12-11T01:51:38.424903Z",
     "iopub.status.idle": "2024-12-11T01:51:38.436275Z",
     "shell.execute_reply": "2024-12-11T01:51:38.435095Z"
    },
    "papermill": {
     "duration": 0.025261,
     "end_time": "2024-12-11T01:51:38.438748",
     "exception": false,
     "start_time": "2024-12-11T01:51:38.413487",
     "status": "completed"
    },
    "tags": []
   },
   "outputs": [
    {
     "name": "stdout",
     "output_type": "stream",
     "text": [
      "AccountID\n",
      "AC00010    1086.60\n",
      "AC00016    1105.88\n",
      "AC00018    1228.81\n",
      "AC00021    1142.83\n",
      "AC00028    1664.33\n",
      "            ...   \n",
      "AC00464    1431.30\n",
      "AC00466    1342.25\n",
      "AC00480    1087.90\n",
      "AC00494    1142.76\n",
      "AC00498    1095.09\n",
      "Name: TransactionAmount, Length: 87, dtype: float64\n"
     ]
    }
   ],
   "source": [
    "high_value_accounts = df[df['TransactionAmount'] > 1000].groupby('AccountID')['TransactionAmount'].sum()\n",
    "print(high_value_accounts)"
   ]
  },
  {
   "cell_type": "code",
   "execution_count": 27,
   "id": "19eca86c",
   "metadata": {
    "execution": {
     "iopub.execute_input": "2024-12-11T01:51:38.461284Z",
     "iopub.status.busy": "2024-12-11T01:51:38.460938Z",
     "iopub.status.idle": "2024-12-11T01:51:38.829260Z",
     "shell.execute_reply": "2024-12-11T01:51:38.828071Z"
    },
    "papermill": {
     "duration": 0.3838,
     "end_time": "2024-12-11T01:51:38.833260",
     "exception": false,
     "start_time": "2024-12-11T01:51:38.449460",
     "status": "completed"
    },
    "tags": []
   },
   "outputs": [
    {
     "data": {
      "image/png": "[encoded data removed]",
      "text/plain": [
       "<Figure size 1000x600 with 1 Axes>"
      ]
     },
     "metadata": {},
     "output_type": "display_data"
    }
   ],
   "source": [
    "daily_transactions.plot(kind='line', figsize=(10, 6), title='Monthly Transaction Volume')\n",
    "plt.xlabel('Date')\n",
    "plt.ylabel('Number of Transactions')\n",
    "plt.show()"
   ]
  },
  {
   "cell_type": "code",
   "execution_count": 28,
   "id": "95dccb31",
   "metadata": {
    "execution": {
     "iopub.execute_input": "2024-12-11T01:51:38.860175Z",
     "iopub.status.busy": "2024-12-11T01:51:38.859760Z",
     "iopub.status.idle": "2024-12-11T01:51:39.170331Z",
     "shell.execute_reply": "2024-12-11T01:51:39.169159Z"
    },
    "papermill": {
     "duration": 0.326368,
     "end_time": "2024-12-11T01:51:39.172479",
     "exception": false,
     "start_time": "2024-12-11T01:51:38.846111",
     "status": "completed"
    },
    "tags": []
   },
   "outputs": [
    {
     "data": {
      "image/png": "[encoded data removed]",
      "text/plain": [
       "<Figure size 1000x600 with 1 Axes>"
      ]
     },
     "metadata": {},
     "output_type": "display_data"
    }
   ],
   "source": [
    "location_analysis.head(10).plot(kind='bar', figsize=(10, 6), title='Top 10 Transaction Locations')\n",
    "plt.xlabel('Location')\n",
    "plt.ylabel('Number of Transactions')\n",
    "plt.show()"
   ]
  },
  {
   "cell_type": "markdown",
   "id": "26f5215f",
   "metadata": {
    "papermill": {
     "duration": 0.013426,
     "end_time": "2024-12-11T01:51:39.200335",
     "exception": false,
     "start_time": "2024-12-11T01:51:39.186909",
     "status": "completed"
    },
    "tags": []
   },
   "source": [
    "# 2. Detect Fraud"
   ]
  },
  {
   "cell_type": "code",
   "execution_count": 29,
   "id": "483ba2aa",
   "metadata": {
    "execution": {
     "iopub.execute_input": "2024-12-11T01:51:39.229137Z",
     "iopub.status.busy": "2024-12-11T01:51:39.228726Z",
     "iopub.status.idle": "2024-12-11T01:51:39.249115Z",
     "shell.execute_reply": "2024-12-11T01:51:39.247893Z"
    },
    "papermill": {
     "duration": 0.037057,
     "end_time": "2024-12-11T01:51:39.251343",
     "exception": false,
     "start_time": "2024-12-11T01:51:39.214286",
     "status": "completed"
    },
    "tags": []
   },
   "outputs": [
    {
     "data": {
      "text/html": [
       "<div>\n",
       "<style scoped>\n",
       "    .dataframe tbody tr th:only-of-type {\n",
       "        vertical-align: middle;\n",
       "    }\n",
       "\n",
       "    .dataframe tbody tr th {\n",
       "        vertical-align: top;\n",
       "    }\n",
       "\n",
       "    .dataframe thead th {\n",
       "        text-align: right;\n",
       "    }\n",
       "</style>\n",
       "<table border=\"1\" class=\"dataframe\">\n",
       "  <thead>\n",
       "    <tr style=\"text-align: right;\">\n",
       "      <th></th>\n",
       "      <th>TransactionID</th>\n",
       "      <th>AccountID</th>\n",
       "      <th>TransactionAmount</th>\n",
       "      <th>TransactionDate</th>\n",
       "      <th>TransactionType</th>\n",
       "      <th>Location</th>\n",
       "      <th>DeviceID</th>\n",
       "      <th>IP Address</th>\n",
       "      <th>MerchantID</th>\n",
       "      <th>Channel</th>\n",
       "      <th>CustomerAge</th>\n",
       "      <th>CustomerOccupation</th>\n",
       "      <th>TransactionDuration</th>\n",
       "      <th>LoginAttempts</th>\n",
       "      <th>AccountBalance</th>\n",
       "      <th>PreviousTransactionDate</th>\n",
       "      <th>Hour</th>\n",
       "      <th>DayOfWeek</th>\n",
       "    </tr>\n",
       "  </thead>\n",
       "  <tbody>\n",
       "    <tr>\n",
       "      <th>0</th>\n",
       "      <td>TX000001</td>\n",
       "      <td>AC00128</td>\n",
       "      <td>14.09</td>\n",
       "      <td>2023-04-11 16:29:14</td>\n",
       "      <td>Debit</td>\n",
       "      <td>San Diego</td>\n",
       "      <td>D000380</td>\n",
       "      <td>162.198.218.92</td>\n",
       "      <td>M015</td>\n",
       "      <td>ATM</td>\n",
       "      <td>70</td>\n",
       "      <td>Doctor</td>\n",
       "      <td>81</td>\n",
       "      <td>1</td>\n",
       "      <td>5112.21</td>\n",
       "      <td>2024-11-04 08:08:08</td>\n",
       "      <td>16</td>\n",
       "      <td>Tuesday</td>\n",
       "    </tr>\n",
       "    <tr>\n",
       "      <th>1</th>\n",
       "      <td>TX000002</td>\n",
       "      <td>AC00455</td>\n",
       "      <td>376.24</td>\n",
       "      <td>2023-06-27 16:44:19</td>\n",
       "      <td>Debit</td>\n",
       "      <td>Houston</td>\n",
       "      <td>D000051</td>\n",
       "      <td>13.149.61.4</td>\n",
       "      <td>M052</td>\n",
       "      <td>ATM</td>\n",
       "      <td>68</td>\n",
       "      <td>Doctor</td>\n",
       "      <td>141</td>\n",
       "      <td>1</td>\n",
       "      <td>13758.91</td>\n",
       "      <td>2024-11-04 08:09:35</td>\n",
       "      <td>16</td>\n",
       "      <td>Tuesday</td>\n",
       "    </tr>\n",
       "    <tr>\n",
       "      <th>2</th>\n",
       "      <td>TX000003</td>\n",
       "      <td>AC00019</td>\n",
       "      <td>126.29</td>\n",
       "      <td>2023-07-10 18:16:08</td>\n",
       "      <td>Debit</td>\n",
       "      <td>Mesa</td>\n",
       "      <td>D000235</td>\n",
       "      <td>215.97.143.157</td>\n",
       "      <td>M009</td>\n",
       "      <td>Online</td>\n",
       "      <td>19</td>\n",
       "      <td>Student</td>\n",
       "      <td>56</td>\n",
       "      <td>1</td>\n",
       "      <td>1122.35</td>\n",
       "      <td>2024-11-04 08:07:04</td>\n",
       "      <td>18</td>\n",
       "      <td>Monday</td>\n",
       "    </tr>\n",
       "    <tr>\n",
       "      <th>3</th>\n",
       "      <td>TX000004</td>\n",
       "      <td>AC00070</td>\n",
       "      <td>184.50</td>\n",
       "      <td>2023-05-05 16:32:11</td>\n",
       "      <td>Debit</td>\n",
       "      <td>Raleigh</td>\n",
       "      <td>D000187</td>\n",
       "      <td>200.13.225.150</td>\n",
       "      <td>M002</td>\n",
       "      <td>Online</td>\n",
       "      <td>26</td>\n",
       "      <td>Student</td>\n",
       "      <td>25</td>\n",
       "      <td>1</td>\n",
       "      <td>8569.06</td>\n",
       "      <td>2024-11-04 08:09:06</td>\n",
       "      <td>16</td>\n",
       "      <td>Friday</td>\n",
       "    </tr>\n",
       "    <tr>\n",
       "      <th>4</th>\n",
       "      <td>TX000005</td>\n",
       "      <td>AC00411</td>\n",
       "      <td>13.45</td>\n",
       "      <td>2023-10-16 17:51:24</td>\n",
       "      <td>Credit</td>\n",
       "      <td>Atlanta</td>\n",
       "      <td>D000308</td>\n",
       "      <td>65.164.3.100</td>\n",
       "      <td>M091</td>\n",
       "      <td>Online</td>\n",
       "      <td>26</td>\n",
       "      <td>Student</td>\n",
       "      <td>198</td>\n",
       "      <td>1</td>\n",
       "      <td>7429.40</td>\n",
       "      <td>2024-11-04 08:06:39</td>\n",
       "      <td>17</td>\n",
       "      <td>Monday</td>\n",
       "    </tr>\n",
       "  </tbody>\n",
       "</table>\n",
       "</div>"
      ],
      "text/plain": [
       "  TransactionID AccountID  TransactionAmount     TransactionDate  \\\n",
       "0      TX000001   AC00128              14.09 2023-04-11 16:29:14   \n",
       "1      TX000002   AC00455             376.24 2023-06-27 16:44:19   \n",
       "2      TX000003   AC00019             126.29 2023-07-10 18:16:08   \n",
       "3      TX000004   AC00070             184.50 2023-05-05 16:32:11   \n",
       "4      TX000005   AC00411              13.45 2023-10-16 17:51:24   \n",
       "\n",
       "  TransactionType   Location DeviceID      IP Address MerchantID Channel  \\\n",
       "0           Debit  San Diego  D000380  162.198.218.92       M015     ATM   \n",
       "1           Debit    Houston  D000051     13.149.61.4       M052     ATM   \n",
       "2           Debit       Mesa  D000235  215.97.143.157       M009  Online   \n",
       "3           Debit    Raleigh  D000187  200.13.225.150       M002  Online   \n",
       "4          Credit    Atlanta  D000308    65.164.3.100       M091  Online   \n",
       "\n",
       "   CustomerAge CustomerOccupation  TransactionDuration  LoginAttempts  \\\n",
       "0           70             Doctor                   81              1   \n",
       "1           68             Doctor                  141              1   \n",
       "2           19            Student                   56              1   \n",
       "3           26            Student                   25              1   \n",
       "4           26            Student                  198              1   \n",
       "\n",
       "   AccountBalance PreviousTransactionDate  Hour DayOfWeek  \n",
       "0         5112.21     2024-11-04 08:08:08    16   Tuesday  \n",
       "1        13758.91     2024-11-04 08:09:35    16   Tuesday  \n",
       "2         1122.35     2024-11-04 08:07:04    18    Monday  \n",
       "3         8569.06     2024-11-04 08:09:06    16    Friday  \n",
       "4         7429.40     2024-11-04 08:06:39    17    Monday  "
      ]
     },
     "execution_count": 29,
     "metadata": {},
     "output_type": "execute_result"
    }
   ],
   "source": [
    "df.head()"
   ]
  },
  {
   "cell_type": "code",
   "execution_count": 30,
   "id": "442e00c0",
   "metadata": {
    "execution": {
     "iopub.execute_input": "2024-12-11T01:51:39.279406Z",
     "iopub.status.busy": "2024-12-11T01:51:39.279004Z",
     "iopub.status.idle": "2024-12-11T01:51:39.304404Z",
     "shell.execute_reply": "2024-12-11T01:51:39.303273Z"
    },
    "papermill": {
     "duration": 0.043364,
     "end_time": "2024-12-11T01:51:39.307627",
     "exception": false,
     "start_time": "2024-12-11T01:51:39.264263",
     "status": "completed"
    },
    "tags": []
   },
   "outputs": [
    {
     "name": "stdout",
     "output_type": "stream",
     "text": [
      "count    2512.000000\n",
      "mean      297.593778\n",
      "std       291.946243\n",
      "min         0.260000\n",
      "25%        81.885000\n",
      "50%       211.140000\n",
      "75%       414.527500\n",
      "max      1919.110000\n",
      "Name: TransactionAmount, dtype: float64\n",
      "     TransactionID AccountID  TransactionAmount     TransactionDate  \\\n",
      "74        TX000075   AC00265            1212.51 2023-10-04 16:36:29   \n",
      "85        TX000086   AC00098            1340.19 2023-09-29 17:22:10   \n",
      "176       TX000177   AC00363            1362.55 2023-02-10 18:07:07   \n",
      "190       TX000191   AC00396            1422.55 2023-07-10 17:49:18   \n",
      "274       TX000275   AC00454            1176.28 2023-12-20 16:08:02   \n",
      "311       TX000312   AC00285            1221.65 2023-09-27 16:55:35   \n",
      "340       TX000341   AC00107            1830.00 2023-03-01 16:31:58   \n",
      "344       TX000345   AC00156            1271.90 2023-08-28 16:43:15   \n",
      "375       TX000376   AC00316            1392.54 2023-11-20 16:51:14   \n",
      "440       TX000441   AC00040            1237.56 2023-11-13 17:49:04   \n",
      "475       TX000476   AC00464            1431.30 2023-09-04 18:46:40   \n",
      "486       TX000487   AC00148            1416.69 2023-01-16 17:00:11   \n",
      "535       TX000536   AC00161            1182.86 2023-12-11 16:06:51   \n",
      "555       TX000556   AC00433            1282.86 2023-05-15 16:52:40   \n",
      "614       TX000615   AC00466            1342.25 2023-04-28 18:11:55   \n",
      "651       TX000652   AC00208            1241.05 2023-11-21 16:26:41   \n",
      "653       TX000654   AC00423            1919.11 2023-06-27 17:48:25   \n",
      "725       TX000726   AC00067            1309.79 2023-03-06 16:33:43   \n",
      "755       TX000756   AC00460            1607.55 2023-09-07 16:27:03   \n",
      "898       TX000899   AC00083            1531.31 2023-10-23 18:00:29   \n",
      "1133      TX001134   AC00095            1432.02 2023-09-08 17:50:09   \n",
      "1213      TX001214   AC00170            1192.20 2023-12-21 16:21:27   \n",
      "1247      TX001248   AC00071            1647.74 2023-12-25 17:41:30   \n",
      "1273      TX001274   AC00431            1235.69 2023-05-24 16:14:34   \n",
      "1281      TX001282   AC00128            1397.59 2023-11-13 17:28:12   \n",
      "1353      TX001354   AC00312            1510.71 2023-06-15 16:48:29   \n",
      "1438      TX001439   AC00179            1831.02 2023-09-15 17:31:42   \n",
      "1497      TX001498   AC00018            1228.81 2023-02-20 16:36:36   \n",
      "1609      TX001610   AC00273            1431.33 2023-01-17 17:50:51   \n",
      "1625      TX001626   AC00220            1360.01 2023-09-25 16:51:23   \n",
      "1634      TX001635   AC00358            1762.28 2023-10-06 16:05:34   \n",
      "1672      TX001673   AC00344            1353.93 2023-11-15 17:32:11   \n",
      "1703      TX001704   AC00205            1294.81 2023-12-11 16:53:08   \n",
      "1706      TX001707   AC00048            1283.97 2023-08-09 17:32:04   \n",
      "1788      TX001789   AC00338            1612.37 2023-07-24 17:46:13   \n",
      "1917      TX001918   AC00382            1427.71 2023-01-24 17:26:34   \n",
      "1952      TX001953   AC00350            1496.57 2023-02-27 16:18:28   \n",
      "1978      TX001979   AC00327            1225.50 2023-11-27 16:02:08   \n",
      "1984      TX001985   AC00303            1512.99 2023-08-08 17:15:50   \n",
      "2086      TX002087   AC00029            1192.95 2023-12-04 18:30:00   \n",
      "2149      TX002150   AC00110            1250.94 2023-02-28 17:45:06   \n",
      "2201      TX002202   AC00385            1431.54 2023-12-11 16:23:59   \n",
      "2215      TX002216   AC00290            1413.24 2023-11-06 18:59:24   \n",
      "2267      TX002268   AC00416            1360.67 2023-04-19 16:38:41   \n",
      "2272      TX002273   AC00268            1454.52 2023-09-22 16:13:06   \n",
      "2380      TX002381   AC00098            1173.74 2023-09-25 16:44:52   \n",
      "2403      TX002404   AC00111            1493.00 2023-06-07 17:05:41   \n",
      "2414      TX002415   AC00028            1664.33 2023-09-25 17:11:19   \n",
      "\n",
      "     TransactionType          Location DeviceID       IP Address MerchantID  \\\n",
      "74             Debit      Indianapolis  D000231     193.83.0.183       M036   \n",
      "85            Credit            Austin  D000574   165.114.224.47       M012   \n",
      "176            Debit           El Paso  D000213     93.52.44.101       M001   \n",
      "190            Debit        Washington  D000569   188.124.181.12       M072   \n",
      "274           Credit       Kansas City  D000476      50.202.8.53       M074   \n",
      "311            Debit            Denver  D000098   83.207.115.164       M091   \n",
      "340            Debit       San Antonio  D000436    62.27.235.199       M082   \n",
      "344            Debit           Houston  D000312   210.136.14.108       M073   \n",
      "375            Debit           El Paso  D000113    63.67.150.226       M013   \n",
      "440           Credit            Austin  D000077   219.96.187.255       M060   \n",
      "475            Debit     Oklahoma City  D000563     7.105.184.86       M082   \n",
      "486            Debit         Nashville  D000418   219.98.242.240       M015   \n",
      "535            Debit            Tucson  D000673     96.24.89.146       M050   \n",
      "555            Debit            Austin  D000388    62.251.170.72       M070   \n",
      "614           Credit        Fort Worth  D000643    28.149.72.129       M032   \n",
      "651            Debit             Miami  D000105    156.96.135.18       M089   \n",
      "653            Debit          Portland  D000191  207.157.126.125       M033   \n",
      "725            Debit     San Francisco  D000251    3.200.166.167       M004   \n",
      "755            Debit           Phoenix  D000070    94.37.250.128       M031   \n",
      "898            Debit         San Diego  D000319   91.204.200.167       M078   \n",
      "1133           Debit        Louisville  D000263   105.87.212.115       M081   \n",
      "1213          Credit      Jacksonville  D000174     40.10.25.102       M093   \n",
      "1247           Debit        Louisville  D000593  113.137.153.101       M049   \n",
      "1273          Credit          San Jose  D000216     69.82.61.135       M048   \n",
      "1281          Credit            Austin  D000117     4.134.78.167       M020   \n",
      "1353           Debit     Oklahoma City  D000106  193.209.134.233       M060   \n",
      "1438          Credit          Columbus  D000246    141.121.30.32       M012   \n",
      "1497           Debit     San Francisco  D000381    63.191.171.41       M034   \n",
      "1609           Debit         Charlotte  D000434     13.88.251.53       M075   \n",
      "1625          Credit           Phoenix  D000582     5.252.94.135       M096   \n",
      "1634           Debit           Memphis  D000008    26.105.49.129       M066   \n",
      "1672           Debit           El Paso  D000681      80.75.92.66       M073   \n",
      "1703          Credit        Washington  D000489     76.0.164.168       M026   \n",
      "1706           Debit  Colorado Springs  D000340     4.134.78.167       M030   \n",
      "1788           Debit       Los Angeles  D000025   16.128.130.153       M078   \n",
      "1917           Debit          New York  D000015    59.208.79.116       M086   \n",
      "1952           Debit           Memphis  D000139    182.84.41.229       M092   \n",
      "1978          Credit         Las Vegas  D000507  156.187.182.236       M066   \n",
      "1984           Debit      Philadelphia  D000032  195.164.171.146       M071   \n",
      "2086           Debit         Las Vegas  D000227    71.93.189.160       M068   \n",
      "2149           Debit          Columbus  D000282      35.67.21.23       M054   \n",
      "2201           Debit          Portland  D000490   68.254.244.208       M075   \n",
      "2215           Debit          New York  D000356    166.41.54.117       M016   \n",
      "2267           Debit           Raleigh  D000017   164.75.163.220       M092   \n",
      "2272           Debit             Miami  D000598    34.169.232.37       M088   \n",
      "2380          Credit    Virginia Beach  D000639    193.190.29.63       M086   \n",
      "2403           Debit  Colorado Springs  D000344  136.162.111.135       M096   \n",
      "2414           Debit       San Antonio  D000072  116.106.207.139       M064   \n",
      "\n",
      "     Channel  CustomerAge CustomerOccupation  TransactionDuration  \\\n",
      "74    Branch           20            Student                   24   \n",
      "85    Online           54           Engineer                   30   \n",
      "176      ATM           29           Engineer                  106   \n",
      "190   Branch           79            Retired                  165   \n",
      "274      ATM           54           Engineer                  174   \n",
      "311   Online           27            Student                  153   \n",
      "340   Online           55           Engineer                  238   \n",
      "344      ATM           47           Engineer                  155   \n",
      "375   Branch           41             Doctor                  297   \n",
      "440   Branch           60           Engineer                  159   \n",
      "475      ATM           18            Student                  168   \n",
      "486      ATM           46           Engineer                   58   \n",
      "535   Online           30           Engineer                   34   \n",
      "555   Branch           19            Student                   68   \n",
      "614   Branch           21            Student                  235   \n",
      "651   Branch           18            Student                  129   \n",
      "653      ATM           30             Doctor                  161   \n",
      "725      ATM           23            Student                  139   \n",
      "755      ATM           31           Engineer                  156   \n",
      "898   Online           18            Student                   62   \n",
      "1133  Branch           60            Retired                  138   \n",
      "1213  Branch           60            Retired                  103   \n",
      "1247     ATM           67            Retired                   52   \n",
      "1273  Branch           20            Student                  118   \n",
      "1281     ATM           26            Student                  144   \n",
      "1353  Online           66            Retired                   51   \n",
      "1438  Online           62             Doctor                   83   \n",
      "1497     ATM           26            Student                  254   \n",
      "1609     ATM           30             Doctor                   49   \n",
      "1625  Branch           67            Retired                  218   \n",
      "1634     ATM           24            Student                  150   \n",
      "1672  Branch           26           Engineer                  171   \n",
      "1703  Branch           45           Engineer                  279   \n",
      "1706     ATM           42             Doctor                  121   \n",
      "1788     ATM           65            Retired                  173   \n",
      "1917  Branch           64             Doctor                  159   \n",
      "1952  Online           33           Engineer                   95   \n",
      "1978  Online           50             Doctor                  109   \n",
      "1984  Online           19            Student                   50   \n",
      "2086  Branch           23            Student                   73   \n",
      "2149     ATM           36             Doctor                  107   \n",
      "2201  Online           20            Student                   84   \n",
      "2215     ATM           58           Engineer                  199   \n",
      "2267  Branch           29           Engineer                  118   \n",
      "2272     ATM           27            Student                   20   \n",
      "2380  Online           61             Doctor                   61   \n",
      "2403     ATM           69            Retired                  151   \n",
      "2414  Branch           18            Student                   65   \n",
      "\n",
      "      LoginAttempts  AccountBalance PreviousTransactionDate  Hour  DayOfWeek  \n",
      "74                1          605.95     2024-11-04 08:06:51    16  Wednesday  \n",
      "85                1         8654.28     2024-11-04 08:06:53    17     Friday  \n",
      "176               1         2429.68     2024-11-04 08:11:05    18     Friday  \n",
      "190               1         5674.32     2024-11-04 08:06:50    17     Monday  \n",
      "274               5          323.69     2024-11-04 08:11:44    16  Wednesday  \n",
      "311               1          243.92     2024-11-04 08:10:41    16  Wednesday  \n",
      "340               1         2235.70     2024-11-04 08:11:59    16  Wednesday  \n",
      "344               1         2120.80     2024-11-04 08:09:27    16     Monday  \n",
      "375               1        13347.69     2024-11-04 08:09:15    16     Monday  \n",
      "440               1         9410.17     2024-11-04 08:11:45    17     Monday  \n",
      "475               1         1058.13     2024-11-04 08:11:20    18     Monday  \n",
      "486               1         3740.73     2024-11-04 08:11:35    17     Monday  \n",
      "535               1         7696.16     2024-11-04 08:08:58    16     Monday  \n",
      "555               1         1830.98     2024-11-04 08:07:32    16     Monday  \n",
      "614               1          694.03     2024-11-04 08:08:00    18     Friday  \n",
      "651               1          756.74     2024-11-04 08:11:48    16    Tuesday  \n",
      "653               1        11090.24     2024-11-04 08:10:27    17    Tuesday  \n",
      "725               1         1258.93     2024-11-04 08:11:14    16     Monday  \n",
      "755               1         6227.99     2024-11-04 08:07:33    16   Thursday  \n",
      "898               4          859.86     2024-11-04 08:06:40    18     Monday  \n",
      "1133              1         4315.07     2024-11-04 08:09:36    17     Friday  \n",
      "1213              5         7816.41     2024-11-04 08:09:14    16   Thursday  \n",
      "1247              1         1483.84     2024-11-04 08:09:29    17     Monday  \n",
      "1273              1          420.25     2024-11-04 08:09:22    16  Wednesday  \n",
      "1281              1         1134.79     2024-11-04 08:06:38    17     Monday  \n",
      "1353              1         2060.02     2024-11-04 08:09:11    16   Thursday  \n",
      "1438              1        11498.01     2024-11-04 08:10:52    17     Friday  \n",
      "1497              1         1821.00     2024-11-04 08:09:05    16     Monday  \n",
      "1609              1         5567.98     2024-11-04 08:09:18    17    Tuesday  \n",
      "1625              1         6601.50     2024-11-04 08:11:58    16     Monday  \n",
      "1634              1         1380.34     2024-11-04 08:10:42    16     Friday  \n",
      "1672              1         7858.41     2024-11-04 08:08:50    17  Wednesday  \n",
      "1703              1         9927.75     2024-11-04 08:11:44    16     Monday  \n",
      "1706              1        11041.90     2024-11-04 08:07:52    17  Wednesday  \n",
      "1788              1         3910.59     2024-11-04 08:08:21    17     Monday  \n",
      "1917              1         1729.26     2024-11-04 08:09:30    17    Tuesday  \n",
      "1952              1          969.06     2024-11-04 08:06:37    16     Monday  \n",
      "1978              1         8611.17     2024-11-04 08:11:41    16     Monday  \n",
      "1984              1         9963.39     2024-11-04 08:09:45    17    Tuesday  \n",
      "2086              1          325.15     2024-11-04 08:08:01    18     Monday  \n",
      "2149              2        11565.97     2024-11-04 08:08:33    17    Tuesday  \n",
      "2201              1         1171.98     2024-11-04 08:08:41    16     Monday  \n",
      "2215              1         7272.01     2024-11-04 08:11:26    18     Monday  \n",
      "2267              1         2861.65     2024-11-04 08:06:27    16  Wednesday  \n",
      "2272              1         1189.03     2024-11-04 08:07:18    16     Friday  \n",
      "2380              1        10456.24     2024-11-04 08:07:31    16     Monday  \n",
      "2403              1         1619.16     2024-11-04 08:07:07    17  Wednesday  \n",
      "2414              1         1588.31     2024-11-04 08:07:07    17     Monday  \n"
     ]
    }
   ],
   "source": [
    "print(df['TransactionAmount'].describe())\n",
    "\n",
    "lower_bound = df['TransactionAmount'].mean() - 3 * df['TransactionAmount'].std()\n",
    "upper_bound = df['TransactionAmount'].mean() + 3 * df['TransactionAmount'].std()\n",
    "\n",
    "suspicious_transactions = df[(df['TransactionAmount'] < lower_bound) | (df['TransactionAmount'] > upper_bound)]\n",
    "print(suspicious_transactions)"
   ]
  },
  {
   "cell_type": "code",
   "execution_count": 31,
   "id": "320bc23f",
   "metadata": {
    "execution": {
     "iopub.execute_input": "2024-12-11T01:51:39.335529Z",
     "iopub.status.busy": "2024-12-11T01:51:39.335143Z",
     "iopub.status.idle": "2024-12-11T01:51:39.349202Z",
     "shell.execute_reply": "2024-12-11T01:51:39.348146Z"
    },
    "papermill": {
     "duration": 0.031285,
     "end_time": "2024-12-11T01:51:39.352123",
     "exception": false,
     "start_time": "2024-12-11T01:51:39.320838",
     "status": "completed"
    },
    "tags": []
   },
   "outputs": [
    {
     "name": "stdout",
     "output_type": "stream",
     "text": [
      "     TransactionID AccountID  TransactionAmount     TransactionDate  \\\n",
      "26        TX000027   AC00441             246.93 2023-04-17 16:37:01   \n",
      "91        TX000092   AC00310             223.85 2023-10-02 16:36:10   \n",
      "147       TX000148   AC00161             514.95 2023-04-13 18:37:48   \n",
      "266       TX000267   AC00178              66.90 2023-04-17 16:50:45   \n",
      "274       TX000275   AC00454            1176.28 2023-12-20 16:08:02   \n",
      "...            ...       ...                ...                 ...   \n",
      "2262      TX002263   AC00279              15.81 2023-03-02 18:36:55   \n",
      "2288      TX002289   AC00149             336.01 2023-11-09 18:45:10   \n",
      "2310      TX002311   AC00243             176.52 2023-03-14 17:06:18   \n",
      "2371      TX002372   AC00465              21.23 2023-09-11 16:35:15   \n",
      "2423      TX002424   AC00340             332.06 2023-06-21 16:38:54   \n",
      "\n",
      "     TransactionType          Location DeviceID       IP Address MerchantID  \\\n",
      "26             Debit             Miami  D000046   55.154.161.250       M029   \n",
      "91             Debit       Kansas City  D000481  133.223.159.151       M009   \n",
      "147            Debit          New York  D000109     23.92.205.75       M056   \n",
      "266           Credit         Charlotte  D000221   138.210.196.19       M021   \n",
      "274           Credit       Kansas City  D000476      50.202.8.53       M074   \n",
      "...              ...               ...      ...              ...        ...   \n",
      "2262           Debit     Oklahoma City  D000606     96.24.89.146       M018   \n",
      "2288           Debit  Colorado Springs  D000216   16.250.113.156       M043   \n",
      "2310          Credit         San Diego  D000333    223.32.70.156       M022   \n",
      "2371           Debit    Virginia Beach  D000174    63.191.171.41       M094   \n",
      "2423           Debit           Seattle  D000365    94.37.250.128       M086   \n",
      "\n",
      "     Channel  CustomerAge CustomerOccupation  TransactionDuration  \\\n",
      "26       ATM           23            Student                  158   \n",
      "91       ATM           53           Engineer                   55   \n",
      "147   Online           41             Doctor                  142   \n",
      "266   Online           79            Retired                  129   \n",
      "274      ATM           54           Engineer                  174   \n",
      "...      ...          ...                ...                  ...   \n",
      "2262  Branch           69             Doctor                   11   \n",
      "2288  Online           63             Doctor                  121   \n",
      "2310  Online           73            Retired                   94   \n",
      "2371     ATM           23            Student                  103   \n",
      "2423     ATM           29             Doctor                  221   \n",
      "\n",
      "      LoginAttempts  AccountBalance PreviousTransactionDate  Hour  DayOfWeek  \n",
      "26                5          673.35     2024-11-04 08:11:38    16     Monday  \n",
      "91                4         2929.91     2024-11-04 08:08:01    16     Monday  \n",
      "147               5          421.93     2024-11-04 08:10:01    18   Thursday  \n",
      "266               4         5238.71     2024-11-04 08:10:39    16     Monday  \n",
      "274               5          323.69     2024-11-04 08:11:44    16  Wednesday  \n",
      "...             ...             ...                     ...   ...        ...  \n",
      "2262              4         8384.85     2024-11-04 08:12:06    18   Thursday  \n",
      "2288              4         9938.20     2024-11-04 08:08:51    18   Thursday  \n",
      "2310              5         7132.08     2024-11-04 08:08:41    17    Tuesday  \n",
      "2371              4          319.18     2024-11-04 08:09:59    16     Monday  \n",
      "2423              4        11826.52     2024-11-04 08:06:23    16  Wednesday  \n",
      "\n",
      "[64 rows x 18 columns]\n"
     ]
    }
   ],
   "source": [
    "suspicious_logins = df[df['LoginAttempts'] > 3]\n",
    "print(suspicious_logins)"
   ]
  },
  {
   "cell_type": "code",
   "execution_count": 32,
   "id": "973bd38c",
   "metadata": {
    "execution": {
     "iopub.execute_input": "2024-12-11T01:51:39.380846Z",
     "iopub.status.busy": "2024-12-11T01:51:39.380334Z",
     "iopub.status.idle": "2024-12-11T01:51:39.390876Z",
     "shell.execute_reply": "2024-12-11T01:51:39.389663Z"
    },
    "papermill": {
     "duration": 0.027681,
     "end_time": "2024-12-11T01:51:39.393201",
     "exception": false,
     "start_time": "2024-12-11T01:51:39.365520",
     "status": "completed"
    },
    "tags": []
   },
   "outputs": [
    {
     "name": "stdout",
     "output_type": "stream",
     "text": [
      "AccountID\n",
      "AC00001    2\n",
      "AC00002    7\n",
      "AC00003    5\n",
      "AC00004    9\n",
      "AC00005    9\n",
      "          ..\n",
      "AC00496    3\n",
      "AC00497    6\n",
      "AC00498    8\n",
      "AC00499    7\n",
      "AC00500    3\n",
      "Name: Location, Length: 470, dtype: int64\n"
     ]
    }
   ],
   "source": [
    "unusual_locations = df.groupby('AccountID')['Location'].nunique()\n",
    "unusual_accounts = unusual_locations[unusual_locations > 1]\n",
    "print(unusual_accounts)"
   ]
  },
  {
   "cell_type": "code",
   "execution_count": 33,
   "id": "0cb4fed9",
   "metadata": {
    "execution": {
     "iopub.execute_input": "2024-12-11T01:51:39.421796Z",
     "iopub.status.busy": "2024-12-11T01:51:39.421393Z",
     "iopub.status.idle": "2024-12-11T01:51:39.448000Z",
     "shell.execute_reply": "2024-12-11T01:51:39.446856Z"
    },
    "papermill": {
     "duration": 0.044431,
     "end_time": "2024-12-11T01:51:39.450853",
     "exception": false,
     "start_time": "2024-12-11T01:51:39.406422",
     "status": "completed"
    },
    "tags": []
   },
   "outputs": [
    {
     "name": "stdout",
     "output_type": "stream",
     "text": [
      "     TransactionID AccountID  TransactionAmount     TransactionDate  \\\n",
      "0         TX000001   AC00128              14.09 2023-04-11 16:29:14   \n",
      "1         TX000002   AC00455             376.24 2023-06-27 16:44:19   \n",
      "2         TX000003   AC00019             126.29 2023-07-10 18:16:08   \n",
      "3         TX000004   AC00070             184.50 2023-05-05 16:32:11   \n",
      "4         TX000005   AC00411              13.45 2023-10-16 17:51:24   \n",
      "...            ...       ...                ...                 ...   \n",
      "2507      TX002508   AC00297             856.21 2023-04-26 17:09:36   \n",
      "2508      TX002509   AC00322             251.54 2023-03-22 17:36:48   \n",
      "2509      TX002510   AC00095              28.63 2023-08-21 17:08:50   \n",
      "2510      TX002511   AC00118             185.97 2023-02-24 16:24:46   \n",
      "2511      TX002512   AC00009             243.08 2023-02-14 16:21:23   \n",
      "\n",
      "     TransactionType          Location DeviceID      IP Address MerchantID  \\\n",
      "0              Debit         San Diego  D000380  162.198.218.92       M015   \n",
      "1              Debit           Houston  D000051     13.149.61.4       M052   \n",
      "2              Debit              Mesa  D000235  215.97.143.157       M009   \n",
      "3              Debit           Raleigh  D000187  200.13.225.150       M002   \n",
      "4             Credit           Atlanta  D000308    65.164.3.100       M091   \n",
      "...              ...               ...      ...             ...        ...   \n",
      "2507          Credit  Colorado Springs  D000625    21.157.41.17       M072   \n",
      "2508           Debit            Tucson  D000410  49.174.157.140       M029   \n",
      "2509           Debit         San Diego  D000095     58.1.27.124       M087   \n",
      "2510           Debit            Denver  D000634   21.190.11.223       M041   \n",
      "2511          Credit      Jacksonville  D000215   59.127.135.25       M041   \n",
      "\n",
      "     Channel  CustomerAge CustomerOccupation  TransactionDuration  \\\n",
      "0        ATM           70             Doctor                   81   \n",
      "1        ATM           68             Doctor                  141   \n",
      "2     Online           19            Student                   56   \n",
      "3     Online           26            Student                   25   \n",
      "4     Online           26            Student                  198   \n",
      "...      ...          ...                ...                  ...   \n",
      "2507  Branch           33             Doctor                  109   \n",
      "2508  Branch           48             Doctor                  177   \n",
      "2509  Branch           56            Retired                  146   \n",
      "2510  Online           23            Student                   19   \n",
      "2511  Online           24            Student                   93   \n",
      "\n",
      "      LoginAttempts  AccountBalance PreviousTransactionDate  Hour  DayOfWeek  \\\n",
      "0                 1         5112.21     2024-11-04 08:08:08    16    Tuesday   \n",
      "1                 1        13758.91     2024-11-04 08:09:35    16    Tuesday   \n",
      "2                 1         1122.35     2024-11-04 08:07:04    18     Monday   \n",
      "3                 1         8569.06     2024-11-04 08:09:06    16     Friday   \n",
      "4                 1         7429.40     2024-11-04 08:06:39    17     Monday   \n",
      "...             ...             ...                     ...   ...        ...   \n",
      "2507              1        12690.79     2024-11-04 08:11:29    17  Wednesday   \n",
      "2508              1          254.75     2024-11-04 08:11:42    17  Wednesday   \n",
      "2509              1         3382.91     2024-11-04 08:08:39    17     Monday   \n",
      "2510              1         1776.91     2024-11-04 08:12:22    16     Friday   \n",
      "2511              1          131.25     2024-11-04 08:07:49    16    Tuesday   \n",
      "\n",
      "       TimeDelta  \n",
      "0    -49477134.0  \n",
      "1    -42823516.0  \n",
      "2    -41694656.0  \n",
      "3    -47403415.0  \n",
      "4    -33228915.0  \n",
      "...          ...  \n",
      "2507 -48178913.0  \n",
      "2508 -51201294.0  \n",
      "2509 -38069989.0  \n",
      "2510 -53452056.0  \n",
      "2511 -54315986.0  \n",
      "\n",
      "[2512 rows x 19 columns]\n"
     ]
    }
   ],
   "source": [
    "df['PreviousTransactionDate'] = pd.to_datetime(df['PreviousTransactionDate'])\n",
    "df['TransactionDate'] = pd.to_datetime(df['TransactionDate'])\n",
    "\n",
    "df['TimeDelta'] = (df['TransactionDate'] - df['PreviousTransactionDate']).dt.total_seconds()\n",
    "\n",
    "suspicious_time_gap = df[df['TimeDelta'] < 60]\n",
    "print(suspicious_time_gap)"
   ]
  },
  {
   "cell_type": "code",
   "execution_count": 34,
   "id": "ea038284",
   "metadata": {
    "execution": {
     "iopub.execute_input": "2024-12-11T01:51:39.479405Z",
     "iopub.status.busy": "2024-12-11T01:51:39.479058Z",
     "iopub.status.idle": "2024-12-11T01:51:39.563773Z",
     "shell.execute_reply": "2024-12-11T01:51:39.562617Z"
    },
    "papermill": {
     "duration": 0.101981,
     "end_time": "2024-12-11T01:51:39.566301",
     "exception": false,
     "start_time": "2024-12-11T01:51:39.464320",
     "status": "completed"
    },
    "tags": []
   },
   "outputs": [
    {
     "name": "stdout",
     "output_type": "stream",
     "text": [
      "     TransactionID AccountID  TransactionAmount     TransactionDate  \\\n",
      "1         TX000002   AC00455             376.24 2023-06-27 16:44:19   \n",
      "4         TX000005   AC00411              13.45 2023-10-16 17:51:24   \n",
      "5         TX000006   AC00393              92.15 2023-04-03 17:15:01   \n",
      "7         TX000008   AC00069             171.42 2023-05-08 17:47:59   \n",
      "10        TX000011   AC00150              17.78 2023-03-14 16:46:10   \n",
      "...            ...       ...                ...                 ...   \n",
      "2507      TX002508   AC00297             856.21 2023-04-26 17:09:36   \n",
      "2508      TX002509   AC00322             251.54 2023-03-22 17:36:48   \n",
      "2509      TX002510   AC00095              28.63 2023-08-21 17:08:50   \n",
      "2510      TX002511   AC00118             185.97 2023-02-24 16:24:46   \n",
      "2511      TX002512   AC00009             243.08 2023-02-14 16:21:23   \n",
      "\n",
      "     TransactionType          Location DeviceID      IP Address MerchantID  \\\n",
      "1              Debit           Houston  D000051     13.149.61.4       M052   \n",
      "4             Credit           Atlanta  D000308    65.164.3.100       M091   \n",
      "5              Debit     Oklahoma City  D000579  117.67.192.211       M054   \n",
      "7             Credit      Indianapolis  D000500   92.214.76.157       M020   \n",
      "10            Credit       Albuquerque  D000205    213.15.9.253       M073   \n",
      "...              ...               ...      ...             ...        ...   \n",
      "2507          Credit  Colorado Springs  D000625    21.157.41.17       M072   \n",
      "2508           Debit            Tucson  D000410  49.174.157.140       M029   \n",
      "2509           Debit         San Diego  D000095     58.1.27.124       M087   \n",
      "2510           Debit            Denver  D000634   21.190.11.223       M041   \n",
      "2511          Credit      Jacksonville  D000215   59.127.135.25       M041   \n",
      "\n",
      "     Channel  CustomerAge CustomerOccupation  TransactionDuration  \\\n",
      "1        ATM           68             Doctor                  141   \n",
      "4     Online           26            Student                  198   \n",
      "5        ATM           18            Student                  172   \n",
      "7     Branch           67            Retired                  291   \n",
      "10    Online           52           Engineer                   59   \n",
      "...      ...          ...                ...                  ...   \n",
      "2507  Branch           33             Doctor                  109   \n",
      "2508  Branch           48             Doctor                  177   \n",
      "2509  Branch           56            Retired                  146   \n",
      "2510  Online           23            Student                   19   \n",
      "2511  Online           24            Student                   93   \n",
      "\n",
      "      LoginAttempts  AccountBalance PreviousTransactionDate  Hour  DayOfWeek  \\\n",
      "1                 1        13758.91     2024-11-04 08:09:35    16    Tuesday   \n",
      "4                 1         7429.40     2024-11-04 08:06:39    17     Monday   \n",
      "5                 1          781.68     2024-11-04 08:06:36    17     Monday   \n",
      "7                 1         2796.24     2024-11-04 08:10:55    17     Monday   \n",
      "10                1         7599.52     2024-11-04 08:06:45    16    Tuesday   \n",
      "...             ...             ...                     ...   ...        ...   \n",
      "2507              1        12690.79     2024-11-04 08:11:29    17  Wednesday   \n",
      "2508              1          254.75     2024-11-04 08:11:42    17  Wednesday   \n",
      "2509              1         3382.91     2024-11-04 08:08:39    17     Monday   \n",
      "2510              1         1776.91     2024-11-04 08:12:22    16     Friday   \n",
      "2511              1          131.25     2024-11-04 08:07:49    16    Tuesday   \n",
      "\n",
      "       TimeDelta PreferredMerchant  \n",
      "1    -42823516.0              M001  \n",
      "4    -33228915.0              M039  \n",
      "5    -50165495.0              M002  \n",
      "7    -47139776.0              M014  \n",
      "10   -51895235.0              M002  \n",
      "...          ...               ...  \n",
      "2507 -48178913.0              M060  \n",
      "2508 -51201294.0              M003  \n",
      "2509 -38069989.0              M022  \n",
      "2510 -53452056.0              M058  \n",
      "2511 -54315986.0              M001  \n",
      "\n",
      "[1954 rows x 20 columns]\n"
     ]
    }
   ],
   "source": [
    "preferred_merchants = df.groupby('AccountID')['MerchantID'].apply(lambda x: x.mode()[0])\n",
    "\n",
    "df['PreferredMerchant'] = df['AccountID'].map(preferred_merchants)\n",
    "unusual_merchant_transactions = df[df['MerchantID'] != df['PreferredMerchant']]\n",
    "print(unusual_merchant_transactions)"
   ]
  },
  {
   "cell_type": "code",
   "execution_count": 35,
   "id": "4cd98cf7",
   "metadata": {
    "execution": {
     "iopub.execute_input": "2024-12-11T01:51:39.595373Z",
     "iopub.status.busy": "2024-12-11T01:51:39.594960Z",
     "iopub.status.idle": "2024-12-11T01:51:40.617310Z",
     "shell.execute_reply": "2024-12-11T01:51:40.616127Z"
    },
    "papermill": {
     "duration": 1.041101,
     "end_time": "2024-12-11T01:51:40.621038",
     "exception": false,
     "start_time": "2024-12-11T01:51:39.579937",
     "status": "completed"
    },
    "tags": []
   },
   "outputs": [
    {
     "name": "stderr",
     "output_type": "stream",
     "text": [
      "/opt/conda/lib/python3.10/site-packages/sklearn/base.py:439: UserWarning: X does not have valid feature names, but IsolationForest was fitted with feature names\n",
      "  warnings.warn(\n"
     ]
    },
    {
     "name": "stdout",
     "output_type": "stream",
     "text": [
      "     TransactionID AccountID  TransactionAmount     TransactionDate  \\\n",
      "74        TX000075   AC00265            1212.51 2023-10-04 16:36:29   \n",
      "85        TX000086   AC00098            1340.19 2023-09-29 17:22:10   \n",
      "146       TX000147   AC00385             973.39 2023-08-30 17:23:20   \n",
      "176       TX000177   AC00363            1362.55 2023-02-10 18:07:07   \n",
      "190       TX000191   AC00396            1422.55 2023-07-10 17:49:18   \n",
      "274       TX000275   AC00454            1176.28 2023-12-20 16:08:02   \n",
      "340       TX000341   AC00107            1830.00 2023-03-01 16:31:58   \n",
      "375       TX000376   AC00316            1392.54 2023-11-20 16:51:14   \n",
      "475       TX000476   AC00464            1431.30 2023-09-04 18:46:40   \n",
      "486       TX000487   AC00148            1416.69 2023-01-16 17:00:11   \n",
      "535       TX000536   AC00161            1182.86 2023-12-11 16:06:51   \n",
      "614       TX000615   AC00466            1342.25 2023-04-28 18:11:55   \n",
      "653       TX000654   AC00423            1919.11 2023-06-27 17:48:25   \n",
      "671       TX000672   AC00372             986.81 2023-03-31 16:52:35   \n",
      "755       TX000756   AC00460            1607.55 2023-09-07 16:27:03   \n",
      "772       TX000773   AC00093             827.14 2023-01-17 17:25:13   \n",
      "878       TX000879   AC00366            1108.46 2023-08-31 16:16:15   \n",
      "898       TX000899   AC00083            1531.31 2023-10-23 18:00:29   \n",
      "1133      TX001134   AC00095            1432.02 2023-09-08 17:50:09   \n",
      "1167      TX001168   AC00010             838.57 2023-06-26 16:08:25   \n",
      "1247      TX001248   AC00071            1647.74 2023-12-25 17:41:30   \n",
      "1281      TX001282   AC00128            1397.59 2023-11-13 17:28:12   \n",
      "1314      TX001315   AC00452              30.87 2023-07-12 16:50:42   \n",
      "1353      TX001354   AC00312            1510.71 2023-06-15 16:48:29   \n",
      "1423      TX001424   AC00443            1076.98 2023-12-20 18:12:25   \n",
      "1438      TX001439   AC00179            1831.02 2023-09-15 17:31:42   \n",
      "1447      TX001448   AC00080             991.82 2023-12-04 16:16:19   \n",
      "1492      TX001493   AC00277             736.32 2023-04-12 17:06:06   \n",
      "1497      TX001498   AC00018            1228.81 2023-02-20 16:36:36   \n",
      "1534      TX001535   AC00407             872.72 2023-04-24 16:47:17   \n",
      "1609      TX001610   AC00273            1431.33 2023-01-17 17:50:51   \n",
      "1625      TX001626   AC00220            1360.01 2023-09-25 16:51:23   \n",
      "1634      TX001635   AC00358            1762.28 2023-10-06 16:05:34   \n",
      "1672      TX001673   AC00344            1353.93 2023-11-15 17:32:11   \n",
      "1703      TX001704   AC00205            1294.81 2023-12-11 16:53:08   \n",
      "1706      TX001707   AC00048            1283.97 2023-08-09 17:32:04   \n",
      "1726      TX001727   AC00120              85.73 2023-03-01 16:09:58   \n",
      "1788      TX001789   AC00338            1612.37 2023-07-24 17:46:13   \n",
      "1796      TX001797   AC00146            1135.80 2023-09-06 16:03:15   \n",
      "1917      TX001918   AC00382            1427.71 2023-01-24 17:26:34   \n",
      "1952      TX001953   AC00350            1496.57 2023-02-27 16:18:28   \n",
      "1984      TX001985   AC00303            1512.99 2023-08-08 17:15:50   \n",
      "2149      TX002150   AC00110            1250.94 2023-02-28 17:45:06   \n",
      "2201      TX002202   AC00385            1431.54 2023-12-11 16:23:59   \n",
      "2215      TX002216   AC00290            1413.24 2023-11-06 18:59:24   \n",
      "2267      TX002268   AC00416            1360.67 2023-04-19 16:38:41   \n",
      "2272      TX002273   AC00268            1454.52 2023-09-22 16:13:06   \n",
      "2330      TX002331   AC00415              69.38 2023-01-11 16:09:36   \n",
      "2354      TX002355   AC00282             959.48 2023-01-10 16:28:02   \n",
      "2403      TX002404   AC00111            1493.00 2023-06-07 17:05:41   \n",
      "2414      TX002415   AC00028            1664.33 2023-09-25 17:11:19   \n",
      "\n",
      "     TransactionType          Location DeviceID       IP Address MerchantID  \\\n",
      "74             Debit      Indianapolis  D000231     193.83.0.183       M036   \n",
      "85            Credit            Austin  D000574   165.114.224.47       M012   \n",
      "146            Debit        Sacramento  D000292   202.194.199.70       M026   \n",
      "176            Debit           El Paso  D000213     93.52.44.101       M001   \n",
      "190            Debit        Washington  D000569   188.124.181.12       M072   \n",
      "274           Credit       Kansas City  D000476      50.202.8.53       M074   \n",
      "340            Debit       San Antonio  D000436    62.27.235.199       M082   \n",
      "375            Debit           El Paso  D000113    63.67.150.226       M013   \n",
      "475            Debit     Oklahoma City  D000563     7.105.184.86       M082   \n",
      "486            Debit         Nashville  D000418   219.98.242.240       M015   \n",
      "535            Debit            Tucson  D000673     96.24.89.146       M050   \n",
      "614           Credit        Fort Worth  D000643    28.149.72.129       M032   \n",
      "653            Debit          Portland  D000191  207.157.126.125       M033   \n",
      "671           Credit           Houston  D000093      145.76.10.8       M039   \n",
      "755            Debit           Phoenix  D000070    94.37.250.128       M031   \n",
      "772            Debit           El Paso  D000645   215.97.143.157       M018   \n",
      "878            Debit       Los Angeles  D000353    48.89.167.189       M046   \n",
      "898            Debit         San Diego  D000319   91.204.200.167       M078   \n",
      "1133           Debit        Louisville  D000263   105.87.212.115       M081   \n",
      "1167           Debit           Phoenix  D000430    115.30.82.168       M040   \n",
      "1247           Debit        Louisville  D000593  113.137.153.101       M049   \n",
      "1281          Credit            Austin  D000117     4.134.78.167       M020   \n",
      "1314           Debit            Fresno  D000015    34.92.221.183       M025   \n",
      "1353           Debit     Oklahoma City  D000106  193.209.134.233       M060   \n",
      "1423           Debit           Detroit  D000474     49.31.186.82       M090   \n",
      "1438          Credit          Columbus  D000246    141.121.30.32       M012   \n",
      "1447           Debit         Milwaukee  D000496    62.152.134.92       M042   \n",
      "1492           Debit      Indianapolis  D000503       64.15.0.66       M054   \n",
      "1497           Debit     San Francisco  D000381    63.191.171.41       M034   \n",
      "1534           Debit        Washington  D000559   216.79.134.201       M033   \n",
      "1609           Debit         Charlotte  D000434     13.88.251.53       M075   \n",
      "1625          Credit           Phoenix  D000582     5.252.94.135       M096   \n",
      "1634           Debit           Memphis  D000008    26.105.49.129       M066   \n",
      "1672           Debit           El Paso  D000681      80.75.92.66       M073   \n",
      "1703          Credit        Washington  D000489     76.0.164.168       M026   \n",
      "1706           Debit  Colorado Springs  D000340     4.134.78.167       M030   \n",
      "1726           Debit    Virginia Beach  D000072  134.222.122.238       M100   \n",
      "1788           Debit       Los Angeles  D000025   16.128.130.153       M078   \n",
      "1796           Debit         San Diego  D000485     16.131.3.140       M004   \n",
      "1917           Debit          New York  D000015    59.208.79.116       M086   \n",
      "1952           Debit           Memphis  D000139    182.84.41.229       M092   \n",
      "1984           Debit      Philadelphia  D000032  195.164.171.146       M071   \n",
      "2149           Debit          Columbus  D000282      35.67.21.23       M054   \n",
      "2201           Debit          Portland  D000490   68.254.244.208       M075   \n",
      "2215           Debit          New York  D000356    166.41.54.117       M016   \n",
      "2267           Debit           Raleigh  D000017   164.75.163.220       M092   \n",
      "2272           Debit             Miami  D000598    34.169.232.37       M088   \n",
      "2330           Debit           Detroit  D000191   22.196.202.183       M042   \n",
      "2354           Debit             Miami  D000120   90.111.245.138       M004   \n",
      "2403           Debit  Colorado Springs  D000344  136.162.111.135       M096   \n",
      "2414           Debit       San Antonio  D000072  116.106.207.139       M064   \n",
      "\n",
      "     Channel  ...  CustomerOccupation TransactionDuration  LoginAttempts  \\\n",
      "74    Branch  ...             Student                  24              1   \n",
      "85    Online  ...            Engineer                  30              1   \n",
      "146   Branch  ...             Retired                 296              1   \n",
      "176      ATM  ...            Engineer                 106              1   \n",
      "190   Branch  ...             Retired                 165              1   \n",
      "274      ATM  ...            Engineer                 174              5   \n",
      "340   Online  ...            Engineer                 238              1   \n",
      "375   Branch  ...              Doctor                 297              1   \n",
      "475      ATM  ...             Student                 168              1   \n",
      "486      ATM  ...            Engineer                  58              1   \n",
      "535   Online  ...            Engineer                  34              1   \n",
      "614   Branch  ...             Student                 235              1   \n",
      "653      ATM  ...              Doctor                 161              1   \n",
      "671   Online  ...              Doctor                 127              1   \n",
      "755      ATM  ...            Engineer                 156              1   \n",
      "772   Branch  ...            Engineer                 265              4   \n",
      "878   Branch  ...            Engineer                 262              1   \n",
      "898   Online  ...             Student                  62              4   \n",
      "1133  Branch  ...             Retired                 138              1   \n",
      "1167     ATM  ...              Doctor                 273              1   \n",
      "1247     ATM  ...             Retired                  52              1   \n",
      "1281     ATM  ...             Student                 144              1   \n",
      "1314     ATM  ...              Doctor                 295              1   \n",
      "1353  Online  ...             Retired                  51              1   \n",
      "1423  Branch  ...              Doctor                 173              1   \n",
      "1438  Online  ...              Doctor                  83              1   \n",
      "1447  Online  ...            Engineer                 300              1   \n",
      "1492  Online  ...              Doctor                  28              1   \n",
      "1497     ATM  ...             Student                 254              1   \n",
      "1534  Online  ...             Student                 288              1   \n",
      "1609     ATM  ...              Doctor                  49              1   \n",
      "1625  Branch  ...             Retired                 218              1   \n",
      "1634     ATM  ...             Student                 150              1   \n",
      "1672  Branch  ...            Engineer                 171              1   \n",
      "1703  Branch  ...            Engineer                 279              1   \n",
      "1706     ATM  ...              Doctor                 121              1   \n",
      "1726     ATM  ...              Doctor                 266              1   \n",
      "1788     ATM  ...             Retired                 173              1   \n",
      "1796     ATM  ...              Doctor                 250              1   \n",
      "1917  Branch  ...              Doctor                 159              1   \n",
      "1952  Online  ...            Engineer                  95              1   \n",
      "1984  Online  ...             Student                  50              1   \n",
      "2149     ATM  ...              Doctor                 107              2   \n",
      "2201  Online  ...             Student                  84              1   \n",
      "2215     ATM  ...            Engineer                 199              1   \n",
      "2267  Branch  ...            Engineer                 118              1   \n",
      "2272     ATM  ...             Student                  20              1   \n",
      "2330  Branch  ...              Doctor                 280              2   \n",
      "2354  Branch  ...              Doctor                  36              1   \n",
      "2403     ATM  ...             Retired                 151              1   \n",
      "2414  Branch  ...             Student                  65              1   \n",
      "\n",
      "      AccountBalance  PreviousTransactionDate Hour  DayOfWeek   TimeDelta  \\\n",
      "74            605.95      2024-11-04 08:06:51   16  Wednesday -34270222.0   \n",
      "85           8654.28      2024-11-04 08:06:53   17     Friday -34699483.0   \n",
      "146          2042.22      2024-11-04 08:11:44   17  Wednesday -37291704.0   \n",
      "176          2429.68      2024-11-04 08:11:05   18     Friday -54655438.0   \n",
      "190          5674.32      2024-11-04 08:06:50   17     Monday -41696252.0   \n",
      "274           323.69      2024-11-04 08:11:44   16  Wednesday -27619422.0   \n",
      "340          2235.70      2024-11-04 08:11:59   16  Wednesday -53019601.0   \n",
      "375         13347.69      2024-11-04 08:09:15   16     Monday -30208681.0   \n",
      "475          1058.13      2024-11-04 08:11:20   18     Monday -36854680.0   \n",
      "486          3740.73      2024-11-04 08:11:35   17     Monday -56819484.0   \n",
      "535          7696.16      2024-11-04 08:08:58   16     Monday -28396927.0   \n",
      "614           694.03      2024-11-04 08:08:00   18     Friday -48002165.0   \n",
      "653         11090.24      2024-11-04 08:10:27   17    Tuesday -42819722.0   \n",
      "671         14881.77      2024-11-04 08:09:09   16     Friday -50426194.0   \n",
      "755          6227.99      2024-11-04 08:07:33   16   Thursday -36603630.0   \n",
      "772          9800.21      2024-11-04 08:08:14   17    Tuesday -56731381.0   \n",
      "878          9257.04      2024-11-04 08:06:36   16   Thursday -37209021.0   \n",
      "898           859.86      2024-11-04 08:06:40   18     Monday -32623571.0   \n",
      "1133         4315.07      2024-11-04 08:09:36   17     Friday -36512367.0   \n",
      "1167        14576.47      2024-11-04 08:11:25   16     Monday -42912180.0   \n",
      "1247         1483.84      2024-11-04 08:09:29   17     Monday -27181679.0   \n",
      "1281         1134.79      2024-11-04 08:06:38   17     Monday -30811106.0   \n",
      "1314        14348.65      2024-11-04 08:10:43   16  Wednesday -41527201.0   \n",
      "1353         2060.02      2024-11-04 08:09:11   16   Thursday -43860042.0   \n",
      "1423        11833.73      2024-11-04 08:09:33   18  Wednesday -27611828.0   \n",
      "1438        11498.01      2024-11-04 08:10:52   17     Friday -35908750.0   \n",
      "1447         3493.13      2024-11-04 08:10:11   16     Monday -29001232.0   \n",
      "1492        14268.95      2024-11-04 08:10:23   17  Wednesday -49388657.0   \n",
      "1497         1821.00      2024-11-04 08:09:05   16     Monday -53796749.0   \n",
      "1534          503.01      2024-11-04 08:10:49   16     Monday -48353012.0   \n",
      "1609         5567.98      2024-11-04 08:09:18   17    Tuesday -56729907.0   \n",
      "1625         6601.50      2024-11-04 08:11:58   16     Monday -35047235.0   \n",
      "1634         1380.34      2024-11-04 08:10:42   16     Friday -34099508.0   \n",
      "1672         7858.41      2024-11-04 08:08:50   17  Wednesday -30638199.0   \n",
      "1703         9927.75      2024-11-04 08:11:44   16     Monday -28394316.0   \n",
      "1706        11041.90      2024-11-04 08:07:52   17  Wednesday -39105348.0   \n",
      "1726        14928.35      2024-11-04 08:08:37   16  Wednesday -53020719.0   \n",
      "1788         3910.59      2024-11-04 08:08:21   17     Monday -40486928.0   \n",
      "1796        13534.30      2024-11-04 08:07:14   16  Wednesday -36691439.0   \n",
      "1917         1729.26      2024-11-04 08:09:30   17    Tuesday -56126576.0   \n",
      "1952          969.06      2024-11-04 08:06:37   16     Monday -53192889.0   \n",
      "1984         9963.39      2024-11-04 08:09:45   17    Tuesday -39192835.0   \n",
      "2149        11565.97      2024-11-04 08:08:33   17    Tuesday -53101407.0   \n",
      "2201         1171.98      2024-11-04 08:08:41   16     Monday -28395882.0   \n",
      "2215         7272.01      2024-11-04 08:11:26   18     Monday -31410722.0   \n",
      "2267         2861.65      2024-11-04 08:06:27   16  Wednesday -48785266.0   \n",
      "2272         1189.03      2024-11-04 08:07:18   16     Friday -35308452.0   \n",
      "2330        12072.11      2024-11-04 08:11:12   16  Wednesday -57254496.0   \n",
      "2354        10631.43      2024-11-04 08:07:57   16    Tuesday -57339595.0   \n",
      "2403         1619.16      2024-11-04 08:07:07   17  Wednesday -44550086.0   \n",
      "2414         1588.31      2024-11-04 08:07:07   17     Monday -35045748.0   \n",
      "\n",
      "      PreferredMerchant Anomaly  \n",
      "74                 M036      -1  \n",
      "85                 M012      -1  \n",
      "146                M007      -1  \n",
      "176                M001      -1  \n",
      "190                M012      -1  \n",
      "274                M027      -1  \n",
      "340                M018      -1  \n",
      "375                M013      -1  \n",
      "475                M082      -1  \n",
      "486                M015      -1  \n",
      "535                M041      -1  \n",
      "614                M003      -1  \n",
      "653                M001      -1  \n",
      "671                M004      -1  \n",
      "755                M036      -1  \n",
      "772                M003      -1  \n",
      "878                M011      -1  \n",
      "898                M012      -1  \n",
      "1133               M022      -1  \n",
      "1167               M016      -1  \n",
      "1247               M010      -1  \n",
      "1281               M015      -1  \n",
      "1314               M016      -1  \n",
      "1353               M028      -1  \n",
      "1423               M034      -1  \n",
      "1438               M004      -1  \n",
      "1447               M002      -1  \n",
      "1492               M029      -1  \n",
      "1497               M034      -1  \n",
      "1534               M003      -1  \n",
      "1609               M059      -1  \n",
      "1625               M025      -1  \n",
      "1634               M010      -1  \n",
      "1672               M048      -1  \n",
      "1703               M004      -1  \n",
      "1706               M027      -1  \n",
      "1726               M011      -1  \n",
      "1788               M055      -1  \n",
      "1796               M004      -1  \n",
      "1917               M004      -1  \n",
      "1952               M068      -1  \n",
      "1984               M029      -1  \n",
      "2149               M012      -1  \n",
      "2201               M007      -1  \n",
      "2215               M011      -1  \n",
      "2267               M016      -1  \n",
      "2272               M016      -1  \n",
      "2330               M042      -1  \n",
      "2354               M070      -1  \n",
      "2403               M028      -1  \n",
      "2414               M006      -1  \n",
      "\n",
      "[51 rows x 21 columns]\n"
     ]
    }
   ],
   "source": [
    "from sklearn.ensemble import IsolationForest\n",
    "\n",
    "features = ['TransactionAmount', 'AccountBalance', 'TransactionDuration', 'TimeDelta']\n",
    "df_features = df[features].dropna()\n",
    "\n",
    "model = IsolationForest(contamination=0.02)\n",
    "df['Anomaly'] = model.fit_predict(df_features)\n",
    "\n",
    "fraud_transactions = df[df['Anomaly'] == -1]\n",
    "print(fraud_transactions)"
   ]
  },
  {
   "cell_type": "code",
   "execution_count": 36,
   "id": "9642c5da",
   "metadata": {
    "execution": {
     "iopub.execute_input": "2024-12-11T01:51:40.652421Z",
     "iopub.status.busy": "2024-12-11T01:51:40.651560Z",
     "iopub.status.idle": "2024-12-11T01:51:40.792390Z",
     "shell.execute_reply": "2024-12-11T01:51:40.791294Z"
    },
    "papermill": {
     "duration": 0.159297,
     "end_time": "2024-12-11T01:51:40.795227",
     "exception": false,
     "start_time": "2024-12-11T01:51:40.635930",
     "status": "completed"
    },
    "tags": []
   },
   "outputs": [
    {
     "name": "stdout",
     "output_type": "stream",
     "text": [
      "     TransactionID AccountID  TransactionAmount     TransactionDate  \\\n",
      "1         TX000002   AC00455             376.24 2023-06-27 16:44:19   \n",
      "6         TX000007   AC00199               7.08 2023-02-15 16:36:48   \n",
      "9         TX000010   AC00385             815.96 2023-03-31 16:06:57   \n",
      "17        TX000018   AC00359             492.93 2023-12-14 18:32:14   \n",
      "33        TX000034   AC00359             877.81 2023-03-13 17:23:24   \n",
      "...            ...       ...                ...                 ...   \n",
      "2468      TX002469   AC00284             768.94 2023-10-11 17:36:16   \n",
      "2474      TX002475   AC00302             865.17 2023-12-07 17:13:16   \n",
      "2500      TX002501   AC00375             325.60 2023-09-26 16:15:36   \n",
      "2502      TX002503   AC00069             603.54 2023-04-21 16:22:38   \n",
      "2507      TX002508   AC00297             856.21 2023-04-26 17:09:36   \n",
      "\n",
      "     TransactionType          Location DeviceID       IP Address MerchantID  \\\n",
      "1              Debit           Houston  D000051      13.149.61.4       M052   \n",
      "6             Credit           Seattle  D000241  140.212.253.222       M019   \n",
      "9              Debit         Nashville  D000199     32.169.88.41       M007   \n",
      "17             Debit          Columbus  D000432   114.223.129.47       M059   \n",
      "33             Debit       Los Angeles  D000111   134.140.85.231       M094   \n",
      "...              ...               ...      ...              ...        ...   \n",
      "2468           Debit      Indianapolis  D000281     47.82.77.181       M051   \n",
      "2474           Debit           Houston  D000381     77.21.150.75       M009   \n",
      "2500           Debit            Dallas  D000389      145.76.10.8       M026   \n",
      "2502           Debit       Albuquerque  D000321   112.86.148.212       M029   \n",
      "2507          Credit  Colorado Springs  D000625     21.157.41.17       M072   \n",
      "\n",
      "     Channel  ...  TransactionDuration LoginAttempts  AccountBalance  \\\n",
      "1        ATM  ...                  141             1        13758.91   \n",
      "6        ATM  ...                  139             1        13316.71   \n",
      "9        ATM  ...                  120             1         1021.88   \n",
      "17    Online  ...                  234             1         5109.97   \n",
      "33    Online  ...                  150             1          399.00   \n",
      "...      ...  ...                  ...           ...             ...   \n",
      "2468  Branch  ...                   53             1         6860.18   \n",
      "2474  Branch  ...                  161             1         9297.50   \n",
      "2500     ATM  ...                   88             1        13777.10   \n",
      "2502  Online  ...                   26             1        10517.47   \n",
      "2507  Branch  ...                  109             1        12690.79   \n",
      "\n",
      "      PreviousTransactionDate  Hour  DayOfWeek   TimeDelta PreferredMerchant  \\\n",
      "1         2024-11-04 08:09:35    16    Tuesday -42823516.0              M001   \n",
      "6         2024-11-04 08:10:09    16  Wednesday -54228801.0              M019   \n",
      "9         2024-11-04 08:06:32    16     Friday -50428775.0              M007   \n",
      "17        2024-11-04 08:11:51    18   Thursday -28129177.0              M017   \n",
      "33        2024-11-04 08:07:50    17     Monday -51979466.0              M017   \n",
      "...                       ...   ...        ...         ...               ...   \n",
      "2468      2024-11-04 08:07:37    17  Wednesday -33661881.0              M031   \n",
      "2474      2024-11-04 08:10:13    17   Thursday -28738617.0              M009   \n",
      "2500      2024-11-04 08:10:49    16    Tuesday -34962913.0              M014   \n",
      "2502      2024-11-04 08:08:08    16     Friday -48613530.0              M014   \n",
      "2507      2024-11-04 08:11:29    17  Wednesday -48178913.0              M060   \n",
      "\n",
      "      Anomaly Cluster  \n",
      "1           1      -1  \n",
      "6           1      -1  \n",
      "9           1      -1  \n",
      "17          1      -1  \n",
      "33          1      -1  \n",
      "...       ...     ...  \n",
      "2468        1      -1  \n",
      "2474        1      -1  \n",
      "2500        1      -1  \n",
      "2502        1      -1  \n",
      "2507        1      -1  \n",
      "\n",
      "[453 rows x 22 columns]\n"
     ]
    }
   ],
   "source": [
    "from sklearn.cluster import DBSCAN\n",
    "from sklearn.preprocessing import StandardScaler\n",
    "\n",
    "scaler = StandardScaler()\n",
    "scaled_features = scaler.fit_transform(df_features)\n",
    "\n",
    "dbscan = DBSCAN(eps=0.5, min_samples=5).fit(scaled_features)\n",
    "df['Cluster'] = dbscan.labels_\n",
    "\n",
    "fraud_clusters = df[df['Cluster'] == -1]\n",
    "print(fraud_clusters)"
   ]
  },
  {
   "cell_type": "code",
   "execution_count": null,
   "id": "a818cbe4",
   "metadata": {
    "papermill": {
     "duration": 0.014988,
     "end_time": "2024-12-11T01:51:40.825357",
     "exception": false,
     "start_time": "2024-12-11T01:51:40.810369",
     "status": "completed"
    },
    "tags": []
   },
   "outputs": [],
   "source": []
  }
 ],
 "metadata": {
  "kaggle": {
   "accelerator": "none",
   "dataSources": [
    {
     "datasetId": 6006971,
     "sourceId": 9801747,
     "sourceType": "datasetVersion"
    }
   ],
   "dockerImageVersionId": 30804,
   "isGpuEnabled": false,
   "isInternetEnabled": true,
   "language": "python",
   "sourceType": "notebook"
  },
  "kernelspec": {
   "display_name": "Python 3",
   "language": "python",
   "name": "python3"
  },
  "language_info": {
   "codemirror_mode": {
    "name": "ipython",
    "version": 3
   },
   "file_extension": ".py",
   "mimetype": "text/x-python",
   "name": "python",
   "nbconvert_exporter": "python",
   "pygments_lexer": "ipython3",
   "version": "3.10.14"
  },
  "papermill": {
   "default_parameters": {},
   "duration": 10.256061,
   "end_time": "2024-12-11T01:51:41.561766",
   "environment_variables": {},
   "exception": null,
   "input_path": "__notebook__.ipynb",
   "output_path": "__notebook__.ipynb",
   "parameters": {},
   "start_time": "2024-12-11T01:51:31.305705",
   "version": "2.6.0"
  }
 },
 "nbformat": 4,
 "nbformat_minor": 5
}
